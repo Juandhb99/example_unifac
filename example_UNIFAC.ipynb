{
 "cells": [
  {
   "cell_type": "code",
   "execution_count": 1,
   "metadata": {},
   "outputs": [],
   "source": [
    "import numpy as np\n",
    "from scipy.optimize import root_scalar, newton, minimize"
   ]
  },
  {
   "cell_type": "markdown",
   "metadata": {},
   "source": [
    "#### 1. Example UNIFAC Smith Van Ness Appendix G\n",
    "\n",
    "* Binary system diethylamine (1) /n-heptane (2)\n",
    "* This calculation is done in molar fractions, for larger molecules like polymers of triacylglycerides, mass compositions must be used."
   ]
  },
  {
   "cell_type": "code",
   "execution_count": 2,
   "metadata": {},
   "outputs": [],
   "source": [
    "molar_x_1 = 0.4\n",
    "molar_x_2 = 0.6"
   ]
  },
  {
   "cell_type": "markdown",
   "metadata": {},
   "source": [
    "The subgroup data is organized in the following order:\n",
    "\n",
    "1. k: subgroup identification number (This is an assigned number for the table)\n",
    "2. Rk: Group area volume\n",
    "3. Qk: Group area parameter\n",
    "4. v^1_k: Number of times that group k is in the molecule 1\n",
    "5. v^2_k: Number of times that group k is in the molecule 2"
   ]
  },
  {
   "cell_type": "code",
   "execution_count": 3,
   "metadata": {},
   "outputs": [],
   "source": [
    "subgroup_data = {\n",
    "    \n",
    "   'CH3': [1, 0.9011, 0.848, 2, 2], \n",
    "   'CH2': [1, 0.6744, 0.540, 1, 5],  \n",
    "   'CH2NH': [33, 1.2070, 0.936, 1, 0]\n",
    "}"
   ]
  },
  {
   "cell_type": "code",
   "execution_count": 4,
   "metadata": {},
   "outputs": [],
   "source": [
    "# r1,2,n.. = ri, is the molecular volume\n",
    "r1 = subgroup_data['CH3'][3] * subgroup_data['CH3'][1] + subgroup_data['CH2'][3] * subgroup_data['CH2'][1] + subgroup_data['CH2NH'][3] * subgroup_data['CH2NH'][1]\n",
    "r2 = subgroup_data['CH3'][4] * subgroup_data['CH3'][1] + subgroup_data['CH2'][4] * subgroup_data['CH2'][1] + subgroup_data['CH2NH'][4] * subgroup_data['CH2NH'][1]"
   ]
  },
  {
   "cell_type": "code",
   "execution_count": 5,
   "metadata": {},
   "outputs": [],
   "source": [
    "# q1,2,n.. = qi, is the molecular area\n",
    "q1 = subgroup_data['CH3'][3] * subgroup_data['CH3'][2] + subgroup_data['CH2'][3] * subgroup_data['CH2'][2] + subgroup_data['CH2NH'][3] * subgroup_data['CH2NH'][2]\n",
    "q2 = subgroup_data['CH3'][4] * subgroup_data['CH3'][2] + subgroup_data['CH2'][4] * subgroup_data['CH2'][2] + subgroup_data['CH2NH'][4] * subgroup_data['CH2NH'][2]"
   ]
  },
  {
   "cell_type": "markdown",
   "metadata": {},
   "source": [
    "##### 1.1 Combinatorial contribution"
   ]
  },
  {
   "cell_type": "code",
   "execution_count": 6,
   "metadata": {},
   "outputs": [],
   "source": [
    "q_denominator = molar_x_1*q1 + molar_x_2*q2\n",
    "r_denominator = molar_x_1*r1 + molar_x_2*r2\n",
    "\n",
    "J1 = r1/r_denominator\n",
    "L1 = q1/q_denominator\n",
    "\n",
    "lngamma1c = 1 - J1 + np.log(J1) - 5*q1*(1-(J1/L1) + np.log(J1/L1))\n",
    "\n",
    "\n",
    "J2 = r2/r_denominator\n",
    "L2 = q2/q_denominator\n",
    "\n",
    "lngamma2c = 1 - J2 + np.log(J2) - 5*q1*(1-(J2/L2) + np.log(J2/L2))"
   ]
  },
  {
   "cell_type": "markdown",
   "metadata": {},
   "source": [
    "#### 1.2 Residual contribution"
   ]
  },
  {
   "cell_type": "code",
   "execution_count": 7,
   "metadata": {},
   "outputs": [],
   "source": [
    "# eki, k is the subgroup, i is the molecule. eki is the fraction of superficial area that each subgroup adds to each molecule\n",
    "\n",
    "e11 = subgroup_data['CH3'][3]*subgroup_data['CH3'][2]/q1\n",
    "e12 = subgroup_data['CH3'][4]*subgroup_data['CH3'][2]/q2\n",
    "\n",
    "e21 = subgroup_data['CH2'][3]*subgroup_data['CH2'][2]/q1\n",
    "e22 = subgroup_data['CH2'][4]*subgroup_data['CH2'][2]/q2\n",
    "\n",
    "e331 = subgroup_data['CH2NH'][3]*subgroup_data['CH2NH'][2]/q1\n",
    "e332 = subgroup_data['CH2NH'][4]*subgroup_data['CH2NH'][2]/q1\n",
    "\n",
    "eki = np.array([e11, e12, e21, e22, e331, e332])"
   ]
  },
  {
   "cell_type": "code",
   "execution_count": 8,
   "metadata": {},
   "outputs": [],
   "source": [
    "# GIP from the literature, in k\n",
    "a11 = 0\n",
    "a12 = 0\n",
    "a21 = 0\n",
    "a22 = 0\n",
    "a3333 = 0\n",
    "a133 = 255.7\n",
    "a233 = 255.7\n",
    "a331 = 65.33\n",
    "a332 = 65.33\n",
    "\n",
    "GIP = np.array([a11, a12, a21, a22, a3333, a133, a233, a331, a332])"
   ]
  },
  {
   "cell_type": "code",
   "execution_count": 9,
   "metadata": {},
   "outputs": [
    {
     "data": {
      "text/plain": [
       "array([1.        , 1.        , 1.        , 1.        , 1.        ,\n",
       "       0.43614057, 0.43614057, 0.80895892, 0.80895892])"
      ]
     },
     "execution_count": 9,
     "metadata": {},
     "output_type": "execute_result"
    }
   ],
   "source": [
    "# Interaction energies\n",
    "tao = np.exp(-GIP/308.15)\n",
    "tao"
   ]
  },
  {
   "cell_type": "markdown",
   "metadata": {},
   "source": [
    "Bik = Summation(emi*taomk), m is a subindex that goes over all the subgroups, so if we take the subgroup k = 1 and component i = 1 we would get:\n",
    "\n",
    "B1,1 = e1,1*tao1,1 + e2,1*tao2,1 + e33,1*tao33,1\n",
    "B1,1 = 0.5347*1 + 0.1702*1 + 0.2951*0.8091\n",
    "\n",
    "B1,1 = 0.9436"
   ]
  },
  {
   "cell_type": "code",
   "execution_count": 10,
   "metadata": {},
   "outputs": [],
   "source": [
    "# Here we calculate the Bik\n",
    "B11 = e11*tao[0] + e21*tao[2] + e331*tao[7]\n",
    "B12 = e11*tao[1] + e21*tao[3] + e331*tao[8]\n",
    "B133 = e11*tao[5] + e21*tao[6] + e331*tao[4]\n",
    "\n",
    "B21 = e12*tao[0] + e22*tao[2] + e332*tao[7]\n",
    "B22 = e12*tao[1] + e22*tao[3] + e332*tao[8]\n",
    "B233 = e12*tao[5] + e22*tao[6] + e332*tao[4]"
   ]
  },
  {
   "cell_type": "code",
   "execution_count": 11,
   "metadata": {},
   "outputs": [],
   "source": [
    "# Here we calcualte the thetak, j is a subindex that goes over all the molecules/components. This is an average effect of each subgroup in the overall area of the mixture.\n",
    "\n",
    "theta1 = (molar_x_1*q1*e11 + molar_x_2*q2*e12 )/q_denominator\n",
    "\n",
    "theta2 = (molar_x_1*q1*e21 + molar_x_2*q2*e22 )/q_denominator\n",
    "\n",
    "theta3 = (molar_x_1*q1*e331 + molar_x_2*q2*e332 )/q_denominator\n"
   ]
  },
  {
   "cell_type": "code",
   "execution_count": 12,
   "metadata": {},
   "outputs": [],
   "source": [
    "# Here we calculate the sk, weighted effect of each interaction energy with the average superficial area.\n",
    "\n",
    "s1 = theta1*tao[0] + theta2*tao[2] + theta3*tao[7]\n",
    "\n",
    "s2 = theta1*tao[1] + theta2*tao[3] + theta3*tao[8]\n",
    "\n",
    "s33 = theta1*tao[5] + theta2*tao[6] + theta3*tao[4]"
   ]
  },
  {
   "cell_type": "code",
   "execution_count": 13,
   "metadata": {},
   "outputs": [],
   "source": [
    "lngamma1r = q1*(1 - ((theta1*B11/s1 - e11*np.log(B11/s1)) + (theta2*B12/s2 - e21*np.log(B12/s2)) + (theta3*B133/s33 - e331*np.log(B133/s33))))\n",
    "\n",
    "lngamma2r = q2*(1 - ((theta1*B21/s1 - e12*np.log(B21/s1)) + (theta2*B22/s2 - e22*np.log(B22/s2)) + (theta3*B233/s33 - e332*np.log(B233/s33))))"
   ]
  },
  {
   "cell_type": "markdown",
   "metadata": {},
   "source": [
    "##### 1.3 Activity coefficient calculation"
   ]
  },
  {
   "cell_type": "code",
   "execution_count": 14,
   "metadata": {},
   "outputs": [],
   "source": [
    "lngamma1 = lngamma1c + lngamma1r\n",
    "gamma1 = np.exp(lngamma1)\n",
    "\n",
    "lngamma2 = lngamma2c + lngamma2r\n",
    "gamma2 = np.exp(lngamma2)"
   ]
  },
  {
   "cell_type": "code",
   "execution_count": 15,
   "metadata": {},
   "outputs": [
    {
     "data": {
      "text/plain": [
       "1.1330392999346754"
      ]
     },
     "execution_count": 15,
     "metadata": {},
     "output_type": "execute_result"
    }
   ],
   "source": [
    "gamma1"
   ]
  },
  {
   "cell_type": "code",
   "execution_count": 16,
   "metadata": {},
   "outputs": [
    {
     "data": {
      "text/plain": [
       "1.0469630934098826"
      ]
     },
     "execution_count": 16,
     "metadata": {},
     "output_type": "execute_result"
    }
   ],
   "source": [
    "gamma2"
   ]
  },
  {
   "cell_type": "markdown",
   "metadata": {},
   "source": [
    "#### 2. Paper example replication"
   ]
  },
  {
   "cell_type": "markdown",
   "metadata": {},
   "source": [
    "* As base case is going to be used the experiment 23 of table 1, reference 39 and specifically the following tie line:\n",
    "\n",
    "\n",
    "**Methanol_F:** 38.50 \n",
    "\n",
    "**FAME_F:** 38.50   \n",
    "\n",
    "**Glycerol_F:** 23.0  \n",
    "\n",
    "**Methanol_L:** 11.6\n",
    "\n",
    "**FAME_L:** 85.6 \n",
    "\n",
    "**Glycerol_L:** 2.8\n",
    "\n",
    "**Methanol_H:** 32.3 \n",
    "\n",
    "**FAME_H:** 0.2265\n",
    "\n",
    "**Glycerol_H:** 67.5\n",
    "\n",
    "The components are: Castor Oil Biodiesel (1), Methanol (2), Glycerol (3)\n",
    "\n",
    "* The composition of the Oil is: (add 14 for the methyl ester and add 28 for ethyl ester in the PM)\n",
    "\n",
    "\n",
    "**Palmitic:** 0.0074, PM: 256.43\n",
    "\n",
    "**Stearic:** 0.0092, PM: 284.48\n",
    "\n",
    "**Oleic:** 0.0271, PM: 282.46\n",
    "\n",
    "**Linoleic:** 0.0431, PM: 280.4472\n",
    "\n",
    "**Linolenic:** 0.0032, PM: 278.43\n",
    "\n",
    "**Ricinolenic:** 0.8987, PM: 298.461\n",
    "\n",
    "**Densipolic:** 0.0093, PM: 296.4\n",
    "\n",
    "\n",
    "* The groups are:\n",
    "\n",
    "1. CH\n",
    "2. CH=CH\n",
    "3. OH\n",
    "4. CH2COO\n",
    "5. COOH\n",
    "6. H2O\n",
    "\n",
    "The order of the groups is mantained in the GIP Matrix as a 8x8 matrix with a diagonal of zeros."
   ]
  },
  {
   "cell_type": "markdown",
   "metadata": {},
   "source": [
    "##### 2.1 Auxiliary information"
   ]
  },
  {
   "cell_type": "code",
   "execution_count": 17,
   "metadata": {},
   "outputs": [],
   "source": [
    "GIP = np.array([\n",
    "       [0,          0,          0,     -3214.25, -1718.09, -3079.37, 1295.55,  1249.74], \n",
    "       [0,          0,          0,     -3214.25, -1718.09, -3079.37, 1295.55,  1249.74],\n",
    "       [0,          0,          0,     -3214.25, -1718.09, -3079.37, 1295.55,  1249.74],\n",
    "       [2900.56,  2900.56,   2900.56,     0,     -388.62,  -964.53,  5084.03,  -987.18],\n",
    "       [4925.67,  4925.67,   4925.67,   259.13,     0,      947.89, -1210.44,  -4618.51], \n",
    "       [2544.80,  2544.80,   2544.80,   1047.08, -2424.84,    0,    -685.81,    134.70], \n",
    "       [3714.86,  3714.86,   3714.86,   258.51,  -3227.03,  594.79,     0,      3239.57],\n",
    "       [20930.91, 20930.91,  20930.91,  -688.85, -14448.32, 1158.19, -1429.48,     0]\n",
    "       ])\n",
    "\n",
    "\n",
    "TAO = np.exp(-GIP/298.15)"
   ]
  },
  {
   "cell_type": "code",
   "execution_count": 18,
   "metadata": {},
   "outputs": [
    {
     "data": {
      "text/plain": [
       "array([[1.00000000e+00, 1.00000000e+00, 1.00000000e+00, 4.80812384e+04,\n",
       "        3.18143359e+02, 3.05847742e+04, 1.29676694e-02, 1.51213368e-02],\n",
       "       [1.00000000e+00, 1.00000000e+00, 1.00000000e+00, 4.80812384e+04,\n",
       "        3.18143359e+02, 3.05847742e+04, 1.29676694e-02, 1.51213368e-02],\n",
       "       [1.00000000e+00, 1.00000000e+00, 1.00000000e+00, 4.80812384e+04,\n",
       "        3.18143359e+02, 3.05847742e+04, 1.29676694e-02, 1.51213368e-02],\n",
       "       [5.95600262e-05, 5.95600262e-05, 5.95600262e-05, 1.00000000e+00,\n",
       "        3.68193293e+00, 2.54076287e+01, 3.93047612e-08, 2.74130162e+01],\n",
       "       [6.68524335e-08, 6.68524335e-08, 6.68524335e-08, 4.19317756e-01,\n",
       "        1.00000000e+00, 4.16173289e-02, 5.79647840e+01, 5.33905081e+06],\n",
       "       [1.96411026e-04, 1.96411026e-04, 1.96411026e-04, 2.98394621e-02,\n",
       "        3.40483994e+03, 1.00000000e+00, 9.97635717e+00, 6.36490355e-01],\n",
       "       [3.87989878e-06, 3.87989878e-06, 3.87989878e-06, 4.20190631e-01,\n",
       "        5.01870174e+04, 1.36022436e-01, 1.00000000e+00, 1.91047986e-05],\n",
       "       [3.24631904e-31, 3.24631904e-31, 3.24631904e-31, 1.00785986e+01,\n",
       "        1.11139478e+21, 2.05562902e-02, 1.20843874e+02, 1.00000000e+00]])"
      ]
     },
     "execution_count": 18,
     "metadata": {},
     "output_type": "execute_result"
    }
   ],
   "source": [
    "TAO"
   ]
  },
  {
   "cell_type": "code",
   "execution_count": 19,
   "metadata": {},
   "outputs": [],
   "source": [
    "w1l = 0.856\n",
    "w2l = 0.116\n",
    "w3l = 0.028\n",
    "\n",
    "w1h = 0.002265\n",
    "w2h = 0.323\n",
    "w3h = 0.675"
   ]
  },
  {
   "cell_type": "code",
   "execution_count": 20,
   "metadata": {},
   "outputs": [],
   "source": [
    "\n",
    "# The order of this list is first is Rk (Volume), then Qk (Surface area), Molar mass \n",
    "group_parameters = {\n",
    "    \n",
    "    'CH': [0.4469, 0.2280, 13],\n",
    "    'CH2': [0.6744, 0.5400, 14],\n",
    "    'CH3': [0.9011, 0.8480, 15],\n",
    "    'CH=CH': [1.1167, 0.8670, 26], \n",
    "    'OH': [1.000, 1.200, 17],\n",
    "    'CH2COO': [1.6764, 1.4200, 58], #Grupo ester, es el grupo sin incluir el metilo/etilo y conectandose con el primer CH2 de la rama larga del acido graso.\n",
    "    'H2O': [0.92, 1.40, 18],\n",
    "    'COOH': [1.3013, 1.224, 45] #Grupo carboxilo, acido graso\n",
    "}"
   ]
  },
  {
   "cell_type": "code",
   "execution_count": 21,
   "metadata": {},
   "outputs": [],
   "source": [
    "FA_profile = {\n",
    "    \n",
    "    \n",
    "\"Palmitic\": [0.0074,  256.43],\n",
    "\n",
    "\"Stearic\": [0.0092, 284.48],\n",
    "\n",
    "\"Oleic\": [0.0271, 282.46],\n",
    "\n",
    "\"Linoleic\": [0.0431, 280.4472],\n",
    "\n",
    "\"Linolenic\": [0.0032, 278.43],\n",
    "\n",
    "\"Ricinolenic\": [0.8987, 298.461],\n",
    "\n",
    "\"Densipolic\": [0.0093, 296.4]\n",
    "    \n",
    "}\n",
    "\n",
    "\n",
    "n_inst = np.array([0, 0, 1, 2, 3, 1, 2])\n",
    "p_OH = np.array([0, 0, 0, 0, 0, 1, 1])\n",
    "m = np.array([14, 16, 14, 12, 10, 13, 11])"
   ]
  },
  {
   "cell_type": "code",
   "execution_count": 22,
   "metadata": {},
   "outputs": [],
   "source": [
    "frac_acid_molar = []\n",
    "frac_ester_molar = []\n",
    "PM_acid = []\n",
    "PM_ester = []\n",
    "total_mol_acid = 0\n",
    "total_mol_ester = 0\n",
    "\n",
    "\n",
    "for i in FA_profile.values():\n",
    "    \n",
    "    mol_acid = i[0]/i[1]\n",
    "    mol_ester = i[0]/(i[1] + 14)\n",
    "    total_mol_acid += mol_acid \n",
    "    total_mol_ester += mol_ester\n",
    "    \n",
    "    PM_acid.append(i[1])\n",
    "    PM_ester.append(i[1]+14) \n",
    "    frac_acid_molar.append(mol_acid)\n",
    "    frac_ester_molar.append(mol_ester)\n",
    "\n",
    "frac_acid_molar = np.array(frac_acid_molar)/total_mol_acid\n",
    "frac_ester_molar = np.array(frac_ester_molar)/total_mol_ester\n",
    "PM_acid = np.array(PM_acid) \n",
    "PM_ester = np.array(PM_ester) "
   ]
  },
  {
   "cell_type": "code",
   "execution_count": 23,
   "metadata": {},
   "outputs": [],
   "source": [
    "M_acid = np.dot(frac_acid_molar, PM_acid)\n",
    "M_ester = np.dot(frac_ester_molar, PM_ester)\n",
    "M_OH = 32.04\n",
    "M_Gly = 92.09382\n",
    "\n",
    "mean_n_acid = np.dot(frac_acid_molar, n_inst)\n",
    "mean_n_ester = np.dot(frac_ester_molar, n_inst)\n",
    "\n",
    "mean_p_acid = np.dot(frac_acid_molar, p_OH)\n",
    "mean_p_ester = np.dot(frac_ester_molar, p_OH)\n",
    "\n",
    "\n",
    "mean_m_acid = np.dot(frac_acid_molar, m)\n",
    "mean_m_ester = np.dot(frac_ester_molar, m)"
   ]
  },
  {
   "cell_type": "code",
   "execution_count": 62,
   "metadata": {},
   "outputs": [
    {
     "data": {
      "text/plain": [
       "0.9044786765174512"
      ]
     },
     "execution_count": 62,
     "metadata": {},
     "output_type": "execute_result"
    }
   ],
   "source": [
    "mean_p_ester"
   ]
  },
  {
   "cell_type": "code",
   "execution_count": 24,
   "metadata": {},
   "outputs": [
    {
     "data": {
      "text/plain": [
       "310.60562017920745"
      ]
     },
     "execution_count": 24,
     "metadata": {},
     "output_type": "execute_result"
    }
   ],
   "source": [
    "M_ester"
   ]
  },
  {
   "cell_type": "code",
   "execution_count": 25,
   "metadata": {},
   "outputs": [
    {
     "data": {
      "text/plain": [
       "1.0435832110282053"
      ]
     },
     "execution_count": 25,
     "metadata": {},
     "output_type": "execute_result"
    }
   ],
   "source": [
    "mean_n_ester"
   ]
  },
  {
   "cell_type": "markdown",
   "metadata": {},
   "source": [
    "Biodiesel Molecule\n",
    "\n",
    "\n",
    "CH3(CH2)m(CH=CH)n(CHOH)pCH2COO(CH2)bCH3\n",
    "\n",
    "CH3(CH2)12.9913(CH=CH)1.0435(CHOH)0.9044CH2COO(CH2)0CH3,   Preguntar por el CHOH"
   ]
  },
  {
   "cell_type": "markdown",
   "metadata": {},
   "source": [
    "##### 2.2 Combinatorial contribution"
   ]
  },
  {
   "cell_type": "markdown",
   "metadata": {},
   "source": [
    "The gamma is calculated for each component in each phase."
   ]
  },
  {
   "cell_type": "code",
   "execution_count": 26,
   "metadata": {},
   "outputs": [
    {
     "name": "stdout",
     "output_type": "stream",
     "text": [
      "0.05933520599250936 0.04737199280852696 0.052074069682417345\n",
      "0.06392009987515605 0.039689224331549165 0.05329347832460419\n",
      "Light Phase zeta 0.00668041852743258\n",
      "Light Phase phi 0.8293982044143465 0.14077907753081892 0.029822718054834628\n",
      "Light Phase theta 0.792286454238687 0.17291445052571006 0.03479909523560294\n",
      "Light Phase combinatorial -0.24653175334991323 -0.4054116904368221 0.19976508182606412\n",
      "Heavy Phase zeta 0.01741792281317714\n",
      "Heavy Phase phi 0.0019715638444042344 0.35215670440945934 0.6458717317461363\n",
      "Heavy Phase theta 0.0015852121869499147 0.3640713901075935 0.6343433977054567\n",
      "Heavy Phase combinatorial -0.5809101974238637 -0.09968666648961495 -0.10241743524452984\n"
     ]
    }
   ],
   "source": [
    "# Calculate r and q\n",
    "r1 = 1/M_ester*(mean_p_ester*group_parameters['CH'][0] + mean_m_ester*group_parameters['CH2'][0] + 2*group_parameters['CH3'][0] + mean_n_ester*group_parameters['CH=CH'][0] + mean_p_ester*group_parameters['OH'][0]  + 1*group_parameters['CH2COO'][0]) # If CH3 is removed in both cases it doesn changes much\n",
    "r2 = 1/M_OH*(1*group_parameters['CH3'][0] + 1*group_parameters['OH'][0])\n",
    "r3 = 1/M_Gly*(1*group_parameters['CH'][0] + 2*group_parameters['CH2'][0] + 3*group_parameters['OH'][0])\n",
    "print(r2, r1, r3)\n",
    "q1 = 1/M_ester*(mean_p_ester*group_parameters['CH'][1] + mean_m_ester*group_parameters['CH2'][1] + 2*group_parameters['CH3'][1] + mean_n_ester*group_parameters['CH=CH'][1] + mean_p_ester*group_parameters['OH'][1] + 1*group_parameters['CH2COO'][1])\n",
    "q2 = 1/M_OH*(1*group_parameters['CH3'][1] + 1*group_parameters['OH'][1])\n",
    "q3 = 1/M_Gly*(1*group_parameters['CH'][1] + 2*group_parameters['CH2'][1] + 3*group_parameters['OH'][1])\n",
    "print(q2, q1, q3)\n",
    "# Light Phase\n",
    "zeta_l = w1l/M_ester + w2l/M_OH + w3l/M_Gly\n",
    "print(\"Light Phase zeta\",zeta_l)\n",
    "# Calculate phi and theta\n",
    "phi1_l = r1*w1l/(r1*w1l + r2*w2l + r3*w3l)\n",
    "phi2_l = r2*w2l/(r1*w1l + r2*w2l + r3*w3l)\n",
    "phi3_l = r3*w3l/(r1*w1l + r2*w2l + r3*w3l)\n",
    "\n",
    "theta1_l = q1*w1l/(q1*w1l + q2*w2l + q3*w3l)\n",
    "theta2_l = q2*w2l/(q1*w1l + q2*w2l + q3*w3l)\n",
    "theta3_l = q3*w3l/(q1*w1l + q2*w2l + q3*w3l)\n",
    "print(\"Light Phase phi\", phi1_l, phi2_l, phi3_l)\n",
    "print(\"Light Phase theta\", theta1_l, theta2_l, theta3_l)\n",
    "\n",
    "#Calculate combinatorial\n",
    "termA_1_l = zeta_l*M_ester*phi1_l/w1l\n",
    "termB_1_l = phi1_l/theta1_l\n",
    "termC_1_l = theta1_l/phi1_l\n",
    "lngammac_l_1 = 1 - termA_1_l + np.log(termA_1_l) - 5*q1*M_ester*(1-(termB_1_l) - np.log(termC_1_l))\n",
    "\n",
    "termA_2_l = zeta_l*M_OH*phi2_l/w2l\n",
    "termB_2_l = phi2_l/theta2_l\n",
    "termC_2_l = theta2_l/phi2_l\n",
    "lngammac_l_2 = 1 - termA_2_l + np.log(termA_2_l) - 5*q2*M_OH*(1-(termB_2_l) - np.log(termC_2_l))\n",
    "\n",
    "termA_3_l = zeta_l*M_Gly*phi3_l/w3l\n",
    "termB_3_l = phi3_l/theta3_l\n",
    "termC_3_l = theta3_l/phi3_l\n",
    "lngammac_l_3 = 1 - termA_3_l + np.log(termA_3_l) - 5*q3*M_Gly*(1-(termB_3_l) - np.log(termC_3_l))\n",
    "\n",
    "print(\"Light Phase combinatorial\", lngammac_l_1, lngammac_l_2, lngammac_l_3)\n",
    "# Heavy Phase\n",
    "zeta_h = w1h/M_ester + w2h/M_OH + w3h/M_Gly\n",
    "print(\"Heavy Phase zeta\",zeta_h)\n",
    "# Calculate phi and theta\n",
    "phi1_h = r1*w1h/(r1*w1h + r2*w2h + r3*w3h)\n",
    "phi2_h = r2*w2h/(r1*w1h + r2*w2h + r3*w3h)\n",
    "phi3_h = r3*w3h/(r1*w1h + r2*w2h + r3*w3h)\n",
    "\n",
    "theta1_h = q1*w1h/(q1*w1h + q2*w2h + q3*w3h)\n",
    "theta2_h = q2*w2h/(q1*w1h + q2*w2h + q3*w3h)\n",
    "theta3_h = q3*w3h/(q1*w1h + q2*w2h + q3*w3h)\n",
    "\n",
    "print(\"Heavy Phase phi\", phi1_h, phi2_h, phi3_h)\n",
    "print(\"Heavy Phase theta\", theta1_h, theta2_h, theta3_h)\n",
    "#Calculate combinatorial\n",
    "termA_1_h = zeta_h*M_ester*phi1_h/w1h\n",
    "termB_1_h = phi1_h/theta1_h\n",
    "termC_1_h = theta1_h/phi1_h\n",
    "lngammac_h_1 = 1 - termA_1_h + np.log(termA_1_h) - 5*q1*M_ester*(1-(termB_1_h) - np.log(termC_1_h))\n",
    "\n",
    "termA_2_h = zeta_h*M_OH*phi2_h/w2h\n",
    "termB_2_h = phi2_h/theta2_h\n",
    "termC_2_h = theta2_h/phi2_h\n",
    "lngammac_h_2 = 1 - termA_2_h + np.log(termA_2_h) - 5*q2*M_OH*(1-(termB_2_h) - np.log(termC_2_h))\n",
    "\n",
    "termA_3_h = zeta_h*M_Gly*phi3_h/w3h\n",
    "termB_3_h = phi3_h/theta3_h\n",
    "termC_3_h = theta3_h/phi3_h\n",
    "lngammac_h_3 = 1 - termA_3_h + np.log(termA_3_h) - 5*q3*M_Gly*(1-(termB_3_h) - np.log(termC_3_h))\n",
    "\n",
    "print(\"Heavy Phase combinatorial\", lngammac_h_1, lngammac_h_2, lngammac_h_3)"
   ]
  },
  {
   "cell_type": "code",
   "execution_count": 27,
   "metadata": {},
   "outputs": [
    {
     "data": {
      "text/plain": [
       "0.6552746253802547"
      ]
     },
     "execution_count": 27,
     "metadata": {},
     "output_type": "execute_result"
    }
   ],
   "source": [
    "termA_3_l"
   ]
  },
  {
   "cell_type": "markdown",
   "metadata": {},
   "source": [
    "##### 2.3 Residual contribution"
   ]
  },
  {
   "cell_type": "code",
   "execution_count": 28,
   "metadata": {},
   "outputs": [
    {
     "name": "stdout",
     "output_type": "stream",
     "text": [
      "0.05091571518390523 0.7093482980029786 0.11601846431012842 0.056695915111578905 0.006913288000045924 0.05432812114303606 0.0 0.0\n"
     ]
    }
   ],
   "source": [
    "total_comp_group_contribution = (mean_p_ester*w1l + mean_m_ester*w1l + 2*w1l + mean_n_ester*w1l + 1*w1l) + (2*w2l) + (6*w3l)\n",
    "WCH_l = (mean_p_ester*w1l + 1*w3l)/total_comp_group_contribution\n",
    "WCH2_l = (mean_m_ester*w1l + 2*w3l)/total_comp_group_contribution\n",
    "WCH3_l = (2*w1l + 1*w2l)/total_comp_group_contribution\n",
    "WCHCH_l = (mean_n_ester*w1l)/total_comp_group_contribution\n",
    "WOH_l = (mean_p_ester*w1l + 1*w2l + 3)*w3l/total_comp_group_contribution\n",
    "WCH2COO_l = (1*w1l)/total_comp_group_contribution\n",
    "WCOOH_l = 0/total_comp_group_contribution\n",
    "WH2O_l = 0/total_comp_group_contribution\n",
    "\n",
    "\n",
    "print(WCH_l, WCH2_l, WCH3_l, WCHCH_l, WOH_l, WCH2COO_l, WCOOH_l, WH2O_l)"
   ]
  },
  {
   "cell_type": "code",
   "execution_count": 29,
   "metadata": {},
   "outputs": [
    {
     "name": "stdout",
     "output_type": "stream",
     "text": [
      "0.0734203509260378 0.5779367048554002 0.1156542498973446 0.04023161115897645 0.1890746008233824 0.038551416632448196 0.0 0.0\n"
     ]
    }
   ],
   "source": [
    "total_comp_group_contribution = (mean_p_ester + mean_m_ester + 2 + mean_n_ester + 1) + (2) + (6)\n",
    "WCH_l = (mean_p_ester + 1)/total_comp_group_contribution\n",
    "WCH2_l = (mean_m_ester + 2)/total_comp_group_contribution\n",
    "WCH3_l = (2 + 1)/total_comp_group_contribution\n",
    "WCHCH_l = (mean_n_ester)/total_comp_group_contribution\n",
    "WOH_l = (mean_p_ester + 1 + 3)/total_comp_group_contribution\n",
    "WCH2COO_l = (1)/total_comp_group_contribution\n",
    "WCOOH_l = 0/total_comp_group_contribution\n",
    "WH2O_l = 0/total_comp_group_contribution\n",
    "print(WCH_l, WCH2_l, WCH3_l, WCHCH_l, WOH_l, WCH2COO_l, WCOOH_l, WH2O_l)\n"
   ]
  },
  {
   "cell_type": "code",
   "execution_count": 30,
   "metadata": {},
   "outputs": [
    {
     "name": "stdout",
     "output_type": "stream",
     "text": [
      "0.0458496628872196 0.596929114377556 0.14971675155778688 0.047150073903273276 0.11517345395789726 0.04518094331626703 0.0 0.0\n"
     ]
    }
   ],
   "source": [
    "corrected_w1l = w1l/(M_ester*zeta_l)\n",
    "corrected_w2l = w2l/(M_OH*zeta_l)\n",
    "corrected_w3l = w3l/(M_Gly*zeta_l)\n",
    "\n",
    "corrected_CH_l = corrected_w1l*mean_p_ester + corrected_w3l*1\n",
    "corrected_CH2_l = corrected_w1l*mean_m_ester + corrected_w3l*2\n",
    "corrected_CH3_l = corrected_w1l*2 + corrected_w2l*1\n",
    "corrected_CHCH_l = corrected_w1l*mean_n_ester\n",
    "corrected_OH_l = corrected_w1l*mean_p_ester + corrected_w2l*1 + corrected_w3l*3\n",
    "corrected_CH2COO_l = corrected_w1l*1\n",
    "corrected_COOH_l = 0\n",
    "corrected_H2O_l = 0\n",
    "\n",
    "total_comp_group_contribution =  corrected_CH_l + corrected_CH2_l + corrected_CH3_l + corrected_CHCH_l + corrected_OH_l + corrected_CH2COO_l + corrected_H2O_l\n",
    "\n",
    "WCH_l = corrected_CH_l/total_comp_group_contribution\n",
    "WCH2_l = corrected_CH2_l/total_comp_group_contribution\n",
    "WCH3_l = corrected_CH3_l/total_comp_group_contribution\n",
    "WCHCH_l = corrected_CHCH_l/total_comp_group_contribution\n",
    "WOH_l = corrected_OH_l/total_comp_group_contribution\n",
    "WCH2COO_l = corrected_CH2COO_l/total_comp_group_contribution\n",
    "WCOOH_l = corrected_COOH_l/total_comp_group_contribution\n",
    "WH2O_l = corrected_H2O_l/total_comp_group_contribution\n",
    "\n",
    "print(WCH_l, WCH2_l, WCH3_l, WCHCH_l, WOH_l, WCH2COO_l, WCOOH_l, WH2O_l)\n"
   ]
  },
  {
   "cell_type": "code",
   "execution_count": null,
   "metadata": {},
   "outputs": [],
   "source": []
  },
  {
   "cell_type": "code",
   "execution_count": 31,
   "metadata": {},
   "outputs": [],
   "source": [
    "# Light phase\n",
    "corrected_w1l = w1l/(M_ester*zeta_l)\n",
    "corrected_w2l = w2l/(M_OH*zeta_l)\n",
    "corrected_w3l = w3l/(M_Gly*zeta_l)\n",
    "\n",
    "corrected_CH_l = corrected_w1l*mean_p_ester + corrected_w3l*1\n",
    "corrected_CH2_l = corrected_w1l*mean_m_ester + corrected_w3l*2\n",
    "corrected_CH3_l = corrected_w1l*2 + corrected_w2l*1\n",
    "corrected_CHCH_l = corrected_w1l*mean_n_ester\n",
    "corrected_OH_l = corrected_w1l*mean_p_ester + corrected_w2l*1 + corrected_w3l*3\n",
    "corrected_CH2COO_l = corrected_w1l*1\n",
    "corrected_COOH_l = 0\n",
    "corrected_H2O_l = 0\n",
    "\n",
    "total_comp_group_contribution =  corrected_CH_l + corrected_CH2_l + corrected_CH3_l + corrected_CHCH_l + corrected_OH_l + corrected_CH2COO_l + corrected_H2O_l\n",
    "\n",
    "WCH_l = corrected_CH_l/total_comp_group_contribution\n",
    "WCH2_l = corrected_CH2_l/total_comp_group_contribution\n",
    "WCH3_l = corrected_CH3_l/total_comp_group_contribution\n",
    "WCHCH_l = corrected_CHCH_l/total_comp_group_contribution\n",
    "WOH_l = corrected_OH_l/total_comp_group_contribution\n",
    "WCH2COO_l = corrected_CH2COO_l/total_comp_group_contribution\n",
    "WCOOH_l = corrected_COOH_l/total_comp_group_contribution\n",
    "WH2O_l = corrected_H2O_l/total_comp_group_contribution\n",
    "\n",
    "total_group_contribution = (group_parameters[\"CH\"][1]*WCH_l + group_parameters[\"CH2\"][1]*WCH2_l + group_parameters[\"CH3\"][1]*WCH3_l + group_parameters[\"CH=CH\"][1]*WCHCH_l + group_parameters[\"OH\"][1]*WOH_l + group_parameters[\"CH2COO\"][1]*WCH2COO_l + group_parameters[\"COOH\"][1]*WCOOH_l + group_parameters[\"H2O\"][1]*WH2O_l)\n",
    "\n",
    "THETACH_l = group_parameters[\"CH\"][1]*WCH_l/total_group_contribution\n",
    "THETACH2_l = group_parameters[\"CH2\"][1]*WCH2_l/total_group_contribution\n",
    "THETACH3_l = group_parameters[\"CH3\"][1]*WCH3_l/total_group_contribution\n",
    "THETACHCH_l = group_parameters[\"CH=CH\"][1]*WCHCH_l/total_group_contribution\n",
    "THETAOH_l = group_parameters[\"OH\"][1]*WOH_l/total_group_contribution\n",
    "THETACH2COO_l = group_parameters[\"CH2COO\"][1]*WCH2COO_l/total_group_contribution\n",
    "THETACOOH_l = group_parameters[\"COOH\"][1]*WCOOH_l/total_group_contribution\n",
    "THETAH2O_l = group_parameters[\"H2O\"][1]*WH2O_l/total_group_contribution\n",
    "\n",
    "rTermACH_l = THETACH_l*TAO[0][0] + THETACH2_l*TAO[1][0] + THETACH3_l*TAO[2][0] +THETACHCH_l*TAO[3][0] + THETAOH_l*TAO[4][0] + THETACH2COO_l*TAO[5][0]+ THETACOOH_l*TAO[6][0]+ THETAH2O_l*TAO[7][0] #Fix Column\n",
    "rTermACH2_l = THETACH_l*TAO[0][1] + THETACH2_l*TAO[1][1] + THETACH3_l*TAO[2][1] +THETACHCH_l*TAO[3][1] + THETAOH_l*TAO[4][1] + THETACH2COO_l*TAO[5][1]+ THETACOOH_l*TAO[6][1]+ THETAH2O_l*TAO[7][1] #Fix Column\n",
    "rTermACH3_l = THETACH_l*TAO[0][2] +THETACH2_l*TAO[1][2] + THETACH3_l*TAO[2][2] +THETACHCH_l*TAO[3][2] + THETAOH_l*TAO[4][2] + THETACH2COO_l*TAO[5][2]+ THETACOOH_l*TAO[6][2]+ THETAH2O_l*TAO[7][2] #Fix Column\n",
    "rTermACHCH_l = THETACH_l*TAO[0][3] +THETACH2_l*TAO[1][3] + THETACH3_l*TAO[2][3] +THETACHCH_l*TAO[3][3] + THETAOH_l*TAO[4][3] + THETACH2COO_l*TAO[5][3]+ THETACOOH_l*TAO[6][3]+ THETAH2O_l*TAO[7][3] #Fix Column\n",
    "rTermAOH_l = THETACH_l*TAO[0][4] +THETACH2_l*TAO[1][4] + THETACH3_l*TAO[2][4] +THETACHCH_l*TAO[3][4] + THETAOH_l*TAO[4][4] + THETACH2COO_l*TAO[5][4]+ THETACOOH_l*TAO[6][4]+ THETAH2O_l*TAO[7][4] #Fix Column\n",
    "rTermACH2COO_l = THETACH_l*TAO[0][5] +THETACH2_l*TAO[1][5] + THETACH3_l*TAO[2][5] +THETACHCH_l*TAO[3][5] + THETAOH_l*TAO[4][5] + THETACH2COO_l*TAO[5][5]+ THETACOOH_l*TAO[6][5]+ THETAH2O_l*TAO[7][5] #Fix Column\n",
    "rTermACOOH_l = THETACH_l*TAO[0][6] +THETACH2_l*TAO[1][6] + THETACH3_l*TAO[2][6] +THETACHCH_l*TAO[3][6] + THETAOH_l*TAO[4][6] + THETACH2COO_l*TAO[5][6]+ THETACOOH_l*TAO[6][6]+ THETAH2O_l*TAO[7][6] #Fix Column\n",
    "rTermAH2O_l = THETACH_l*TAO[0][7] +THETACH2_l*TAO[1][7] + THETACH3_l*TAO[2][7] +THETACHCH_l*TAO[3][7] + THETAOH_l*TAO[4][7] + THETACH2COO_l*TAO[5][7]+ THETACOOH_l*TAO[6][7]+ THETAH2O_l*TAO[7][7] #Fix Column\n",
    "\n",
    "\n",
    "lngammar_CH_l = group_parameters[\"CH\"][1]*(1 - np.log(rTermACH_l) - (THETACH_l*TAO[0][0]/rTermACH_l \n",
    "                                                                     + THETACH2_l*TAO[0][1]/rTermACH2_l \n",
    "                                                                     + THETACH3_l*TAO[0][2]/rTermACH3_l \n",
    "                                                                     + THETACHCH_l*TAO[0][3]/rTermACHCH_l \n",
    "                                                                     + THETAOH_l*TAO[0][4]/rTermAOH_l \n",
    "                                                                     + THETACH2COO_l*TAO[0][5]/rTermACH2COO_l \n",
    "                                                                     + THETACOOH_l*TAO[0][6]/rTermACOOH_l \n",
    "                                                                     + THETAH2O_l*TAO[0][7]/rTermAH2O_l))\n",
    "\n",
    "lngammar_CH2_l = group_parameters[\"CH2\"][1]*(1 - np.log(rTermACH2_l) - (THETACH_l*TAO[1][0]/rTermACH_l \n",
    "                                                                        + THETACH2_l*TAO[1][1]/rTermACH2_l \n",
    "                                                                        + THETACH3_l*TAO[1][2]/rTermACH3_l \n",
    "                                                                        + THETACHCH_l*TAO[1][3]/rTermACHCH_l \n",
    "                                                                        + THETAOH_l*TAO[1][4]/rTermAOH_l \n",
    "                                                                        + THETACH2COO_l*TAO[1][5]/rTermACH2COO_l \n",
    "                                                                        + THETACOOH_l*TAO[1][6]/rTermACOOH_l \n",
    "                                                                        + THETAH2O_l*TAO[1][7]/rTermAH2O_l))\n",
    "\n",
    "lngammar_CH3_l = group_parameters[\"CH3\"][1]*(1 - np.log(rTermACH3_l) - (THETACH_l*TAO[2][0]/rTermACH_l \n",
    "                                                                        + THETACH2_l*TAO[2][1]/rTermACH2_l \n",
    "                                                                        + THETACH3_l*TAO[2][2]/rTermACH3_l \n",
    "                                                                        + THETACHCH_l*TAO[2][3]/rTermACHCH_l \n",
    "                                                                        + THETAOH_l*TAO[2][4]/rTermAOH_l \n",
    "                                                                        + THETACH2COO_l*TAO[2][5]/rTermACH2COO_l \n",
    "                                                                        + THETACOOH_l*TAO[2][6]/rTermACOOH_l \n",
    "                                                                        + THETAH2O_l*TAO[2][7]/rTermAH2O_l))\n",
    "\n",
    "lngammar_CHCH_l = group_parameters[\"CH=CH\"][1]*(1 - np.log(rTermACHCH_l) - (THETACH_l*TAO[3][0]/rTermACH_l \n",
    "                                                                            + THETACH2_l*TAO[3][1]/rTermACH2_l \n",
    "                                                                            + THETACH3_l*TAO[3][2]/rTermACH3_l \n",
    "                                                                            + THETACHCH_l*TAO[3][3]/rTermACHCH_l \n",
    "                                                                            + THETAOH_l*TAO[3][4]/rTermAOH_l \n",
    "                                                                            + THETACH2COO_l*TAO[3][5]/rTermACH2COO_l \n",
    "                                                                            + THETACOOH_l*TAO[3][6]/rTermACOOH_l \n",
    "                                                                            + THETAH2O_l*TAO[3][7]/rTermAH2O_l))\n",
    "\n",
    "lngammar_OH_l = group_parameters[\"OH\"][1]*(1 - np.log(rTermAOH_l) - (THETACH_l*TAO[4][0]/rTermACH_l \n",
    "                                                                     + THETACH2_l*TAO[4][1]/rTermACH2_l \n",
    "                                                                     + THETACH3_l*TAO[4][2]/rTermACH3_l \n",
    "                                                                     + THETACHCH_l*TAO[4][3]/rTermACHCH_l \n",
    "                                                                     + THETAOH_l*TAO[4][4]/rTermAOH_l \n",
    "                                                                     + THETACH2COO_l*TAO[4][5]/rTermACH2COO_l \n",
    "                                                                     + THETACOOH_l*TAO[4][6]/rTermACOOH_l \n",
    "                                                                     + THETAH2O_l*TAO[4][7]/rTermAH2O_l))\n",
    "\n",
    "lngammar_CH2COO_l = group_parameters[\"CH2COO\"][1]*(1 - np.log(rTermACH2COO_l) - (THETACH_l*TAO[5][0]/rTermACH_l \n",
    "                                                                                 + THETACH2_l*TAO[5][1]/rTermACH2_l \n",
    "                                                                                 + THETACH3_l*TAO[5][2]/rTermACH3_l \n",
    "                                                                                 + THETACHCH_l*TAO[5][3]/rTermACHCH_l \n",
    "                                                                                 + THETAOH_l*TAO[5][4]/rTermAOH_l \n",
    "                                                                                 + THETACH2COO_l*TAO[5][5]/rTermACH2COO_l \n",
    "                                                                                 + THETACOOH_l*TAO[5][6]/rTermACOOH_l \n",
    "                                                                                 + THETAH2O_l*TAO[5][7]/rTermAH2O_l))\n",
    "\n",
    "lngammar_COOH_l = group_parameters[\"COOH\"][1]*(1 - np.log(rTermACOOH_l) - (THETACH_l*TAO[6][0]/rTermACH_l \n",
    "                                                                           + THETACH2_l*TAO[6][1]/rTermACH2_l \n",
    "                                                                           + THETACH3_l*TAO[6][2]/rTermACH3_l \n",
    "                                                                           + THETACHCH_l*TAO[6][3]/rTermACHCH_l \n",
    "                                                                           + THETAOH_l*TAO[6][4]/rTermAOH_l \n",
    "                                                                           + THETACH2COO_l*TAO[6][5]/rTermACH2COO_l \n",
    "                                                                           + THETACOOH_l*TAO[6][6]/rTermACOOH_l \n",
    "                                                                           + THETAH2O_l*TAO[6][7]/rTermAH2O_l))\n",
    "\n",
    "lngammar_H2O_l = group_parameters[\"H2O\"][1]*(1 - np.log(rTermAH2O_l) - (THETACH_l*TAO[7][0]/rTermACH_l \n",
    "                                                                        + THETACH2_l*TAO[7][1]/rTermACH2_l \n",
    "                                                                        + THETACH3_l*TAO[7][2]/rTermACH3_l \n",
    "                                                                        + THETACHCH_l*TAO[7][3]/rTermACHCH_l \n",
    "                                                                        + THETAOH_l*TAO[7][4]/rTermAOH_l \n",
    "                                                                        + THETACH2COO_l*TAO[7][5]/rTermACH2COO_l \n",
    "                                                                        + THETACOOH_l*TAO[7][6]/rTermACOOH_l \n",
    "                                                                        + THETAH2O_l*TAO[7][7]/rTermAH2O_l))"
   ]
  },
  {
   "cell_type": "code",
   "execution_count": 32,
   "metadata": {},
   "outputs": [
    {
     "name": "stdout",
     "output_type": "stream",
     "text": [
      "0.04090336093540275\n"
     ]
    }
   ],
   "source": [
    "print(lngammar_CH2_l)"
   ]
  },
  {
   "cell_type": "code",
   "execution_count": 33,
   "metadata": {},
   "outputs": [],
   "source": [
    "# heavy phase\n",
    "corrected_w1h = w1h/(M_ester*zeta_h)\n",
    "corrected_w2h = w2h/(M_OH*zeta_h)\n",
    "corrected_w3h = w3h/(M_Gly*zeta_h)\n",
    "\n",
    "corrected_CH_h = corrected_w1h*mean_p_ester + corrected_w3h*1\n",
    "corrected_CH2_h = corrected_w1h*mean_m_ester + corrected_w3h*2\n",
    "corrected_CH3_h = corrected_w1h*2 + corrected_w2h*1\n",
    "corrected_CHCH_h = corrected_w1h*mean_n_ester\n",
    "corrected_OH_h = corrected_w1h*mean_p_ester + corrected_w2h*1 + corrected_w3h*3\n",
    "corrected_CH2COO_h = corrected_w1h*1\n",
    "corrected_COOH_h = 0\n",
    "corrected_H2O_h = 0\n",
    "\n",
    "total_comp_group_contribution =  corrected_CH_h + corrected_CH2_h + corrected_CH3_h + corrected_CHCH_h + corrected_OH_h + corrected_CH2COO_h + corrected_H2O_h\n",
    "\n",
    "WCH_h = corrected_CH_h/total_comp_group_contribution\n",
    "WCH2_h = corrected_CH2_h/total_comp_group_contribution\n",
    "WCH3_h = corrected_CH3_h/total_comp_group_contribution\n",
    "WCHCH_h = corrected_CHCH_h/total_comp_group_contribution\n",
    "WOH_h = corrected_OH_h/total_comp_group_contribution\n",
    "WCH2COO_h = corrected_CH2COO_h/total_comp_group_contribution\n",
    "WCOOH_h = corrected_COOH_h/total_comp_group_contribution\n",
    "WH2O_h = corrected_H2O_h/total_comp_group_contribution\n",
    "\n",
    "total_group_contribution = (group_parameters[\"CH\"][1]*WCH_h + group_parameters[\"CH2\"][1]*WCH2_h + group_parameters[\"CH3\"][1]*WCH3_h + group_parameters[\"CH=CH\"][1]*WCHCH_h + group_parameters[\"OH\"][1]*WOH_h + group_parameters[\"CH2COO\"][1]*WCH2COO_h + group_parameters[\"COOH\"][1]*WCOOH_h + group_parameters[\"H2O\"][1]*WH2O_h)\n",
    "\n",
    "THETACH_h = group_parameters[\"CH\"][1]*WCH_h/total_group_contribution\n",
    "THETACH2_h = group_parameters[\"CH2\"][1]*WCH2_h/total_group_contribution\n",
    "THETACH3_h = group_parameters[\"CH3\"][1]*WCH3_h/total_group_contribution\n",
    "THETACHCH_h = group_parameters[\"CH=CH\"][1]*WCHCH_h/total_group_contribution\n",
    "THETAOH_h = group_parameters[\"OH\"][1]*WOH_h/total_group_contribution\n",
    "THETACH2COO_h = group_parameters[\"CH2COO\"][1]*WCH2COO_h/total_group_contribution\n",
    "THETACOOH_h = group_parameters[\"COOH\"][1]*WCOOH_h/total_group_contribution\n",
    "THETAH2O_h = group_parameters[\"H2O\"][1]*WH2O_h/total_group_contribution\n",
    "\n",
    "rTermACH_h = THETACH_h*TAO[0][0] + THETACH2_h*TAO[1][0] + THETACH3_h*TAO[2][0] +THETACHCH_h*TAO[3][0] + THETAOH_h*TAO[4][0] + THETACH2COO_h*TAO[5][0]+ THETACOOH_h*TAO[6][0]+ THETAH2O_h*TAO[7][0] #Fix Column\n",
    "rTermACH2_h = THETACH_h*TAO[0][1] + THETACH2_h*TAO[1][1] + THETACH3_h*TAO[2][1] +THETACHCH_h*TAO[3][1] + THETAOH_h*TAO[4][1] + THETACH2COO_h*TAO[5][1]+ THETACOOH_h*TAO[6][1]+ THETAH2O_h*TAO[7][1] #Fix Column\n",
    "rTermACH3_h = THETACH_h*TAO[0][2] +THETACH2_h*TAO[1][2] + THETACH3_h*TAO[2][2] +THETACHCH_h*TAO[3][2] + THETAOH_h*TAO[4][2] + THETACH2COO_h*TAO[5][2]+ THETACOOH_h*TAO[6][2]+ THETAH2O_h*TAO[7][2] #Fix Column\n",
    "rTermACHCH_h = THETACH_h*TAO[0][3] +THETACH2_h*TAO[1][3] + THETACH3_h*TAO[2][3] +THETACHCH_h*TAO[3][3] + THETAOH_h*TAO[4][3] + THETACH2COO_h*TAO[5][3]+ THETACOOH_h*TAO[6][3]+ THETAH2O_h*TAO[7][3] #Fix Column\n",
    "rTermAOH_h = THETACH_h*TAO[0][4] +THETACH2_h*TAO[1][4] + THETACH3_h*TAO[2][4] +THETACHCH_h*TAO[3][4] + THETAOH_h*TAO[4][4] + THETACH2COO_h*TAO[5][4]+ THETACOOH_h*TAO[6][4]+ THETAH2O_h*TAO[7][4] #Fix Column\n",
    "rTermACH2COO_h = THETACH_h*TAO[0][5] +THETACH2_h*TAO[1][5] + THETACH3_h*TAO[2][5] +THETACHCH_h*TAO[3][5] + THETAOH_h*TAO[4][5] + THETACH2COO_h*TAO[5][5]+ THETACOOH_h*TAO[6][5]+ THETAH2O_h*TAO[7][5] #Fix Column\n",
    "rTermACOOH_h = THETACH_h*TAO[0][6] +THETACH2_h*TAO[1][6] + THETACH3_h*TAO[2][6] +THETACHCH_h*TAO[3][6] + THETAOH_h*TAO[4][6] + THETACH2COO_h*TAO[5][6]+ THETACOOH_h*TAO[6][6]+ THETAH2O_h*TAO[7][6] #Fix Column\n",
    "rTermAH2O_h = THETACH_h*TAO[0][7] +THETACH2_h*TAO[1][7] + THETACH3_h*TAO[2][7] +THETACHCH_h*TAO[3][7] + THETAOH_h*TAO[4][7] + THETACH2COO_h*TAO[5][7]+ THETACOOH_h*TAO[6][7]+ THETAH2O_h*TAO[7][7] #Fix Column\n",
    "\n",
    "lngammar_CH_h = group_parameters[\"CH\"][1]*(1 - np.log(rTermACH_h) - (THETACH_h*TAO[0][0]/rTermACH_h \n",
    "                                                                     + THETACH2_h*TAO[0][1]/rTermACH2_h \n",
    "                                                                     + THETACH3_h*TAO[0][2]/rTermACH3_h \n",
    "                                                                     + THETACHCH_h*TAO[0][3]/rTermACHCH_h \n",
    "                                                                     + THETAOH_h*TAO[0][4]/rTermAOH_h \n",
    "                                                                     + THETACH2COO_h*TAO[0][5]/rTermACH2COO_h \n",
    "                                                                     + THETACOOH_h*TAO[0][6]/rTermACOOH_h \n",
    "                                                                     + THETAH2O_h*TAO[0][7]/rTermAH2O_h))\n",
    "\n",
    "lngammar_CH2_h = group_parameters[\"CH2\"][1]*(1 - np.log(rTermACH2_h) - (THETACH_h*TAO[1][0]/rTermACH_h \n",
    "                                                                        + THETACH2_h*TAO[1][1]/rTermACH2_h \n",
    "                                                                        + THETACH3_h*TAO[1][2]/rTermACH3_h \n",
    "                                                                        + THETACHCH_h*TAO[1][3]/rTermACHCH_h \n",
    "                                                                        + THETAOH_h*TAO[1][4]/rTermAOH_h \n",
    "                                                                        + THETACH2COO_h*TAO[1][5]/rTermACH2COO_h \n",
    "                                                                        + THETACOOH_h*TAO[1][6]/rTermACOOH_h \n",
    "                                                                        + THETAH2O_h*TAO[1][7]/rTermAH2O_h))\n",
    "\n",
    "lngammar_CH3_h = group_parameters[\"CH3\"][1]*(1 - np.log(rTermACH3_h) - (THETACH_h*TAO[2][0]/rTermACH_h \n",
    "                                                                        + THETACH2_h*TAO[2][1]/rTermACH2_h \n",
    "                                                                        + THETACH3_h*TAO[2][2]/rTermACH3_h \n",
    "                                                                        + THETACHCH_h*TAO[2][3]/rTermACHCH_h \n",
    "                                                                        + THETAOH_h*TAO[2][4]/rTermAOH_h \n",
    "                                                                        + THETACH2COO_h*TAO[2][5]/rTermACH2COO_h \n",
    "                                                                        + THETACOOH_h*TAO[2][6]/rTermACOOH_h \n",
    "                                                                        + THETAH2O_h*TAO[2][7]/rTermAH2O_h))\n",
    "\n",
    "lngammar_CHCH_h = group_parameters[\"CH=CH\"][1]*(1 - np.log(rTermACHCH_h) - (THETACH_h*TAO[3][0]/rTermACH_h \n",
    "                                                                            + THETACH2_h*TAO[3][1]/rTermACH2_h \n",
    "                                                                            + THETACH3_h*TAO[3][2]/rTermACH3_h \n",
    "                                                                            + THETACHCH_h*TAO[3][3]/rTermACHCH_h \n",
    "                                                                            + THETAOH_h*TAO[3][4]/rTermAOH_h \n",
    "                                                                            + THETACH2COO_h*TAO[3][5]/rTermACH2COO_h \n",
    "                                                                            + THETACOOH_h*TAO[3][6]/rTermACOOH_h \n",
    "                                                                            + THETAH2O_h*TAO[3][7]/rTermAH2O_h))\n",
    "\n",
    "lngammar_OH_h = group_parameters[\"OH\"][1]*(1 - np.log(rTermAOH_h) - (THETACH_h*TAO[4][0]/rTermACH_h \n",
    "                                                                     + THETACH2_h*TAO[4][1]/rTermACH2_h \n",
    "                                                                     + THETACH3_h*TAO[4][2]/rTermACH3_h \n",
    "                                                                     + THETACHCH_h*TAO[4][3]/rTermACHCH_h \n",
    "                                                                     + THETAOH_h*TAO[4][4]/rTermAOH_h \n",
    "                                                                     + THETACH2COO_h*TAO[4][5]/rTermACH2COO_h \n",
    "                                                                     + THETACOOH_h*TAO[4][6]/rTermACOOH_h \n",
    "                                                                     + THETAH2O_h*TAO[4][7]/rTermAH2O_h))\n",
    "\n",
    "lngammar_CH2COO_h = group_parameters[\"CH2COO\"][1]*(1 - np.log(rTermACH2COO_h) - (THETACH_h*TAO[5][0]/rTermACH_h \n",
    "                                                                                 + THETACH2_h*TAO[5][1]/rTermACH2_h \n",
    "                                                                                 + THETACH3_h*TAO[5][2]/rTermACH3_h \n",
    "                                                                                 + THETACHCH_h*TAO[5][3]/rTermACHCH_h \n",
    "                                                                                 + THETAOH_h*TAO[5][4]/rTermAOH_h \n",
    "                                                                                 + THETACH2COO_h*TAO[5][5]/rTermACH2COO_h \n",
    "                                                                                 + THETACOOH_h*TAO[5][6]/rTermACOOH_h \n",
    "                                                                                 + THETAH2O_h*TAO[5][7]/rTermAH2O_h))\n",
    "\n",
    "lngammar_COOH_h = group_parameters[\"COOH\"][1]*(1 - np.log(rTermACOOH_h) - (THETACH_h*TAO[6][0]/rTermACH_h \n",
    "                                                                           + THETACH2_h*TAO[6][1]/rTermACH2_h \n",
    "                                                                           + THETACH3_h*TAO[6][2]/rTermACH3_h \n",
    "                                                                           + THETACHCH_h*TAO[6][3]/rTermACHCH_h \n",
    "                                                                           + THETAOH_h*TAO[6][4]/rTermAOH_h \n",
    "                                                                           + THETACH2COO_h*TAO[6][5]/rTermACH2COO_h \n",
    "                                                                           + THETACOOH_h*TAO[6][6]/rTermACOOH_h \n",
    "                                                                           + THETAH2O_h*TAO[6][7]/rTermAH2O_h))\n",
    "\n",
    "lngammar_H2O_h = group_parameters[\"H2O\"][1]*(1 - np.log(rTermAH2O_h) - (THETACH_h*TAO[7][0]/rTermACH_h \n",
    "                                                                        + THETACH2_h*TAO[7][1]/rTermACH2_h \n",
    "                                                                        + THETACH3_h*TAO[7][2]/rTermACH3_h \n",
    "                                                                        + THETACHCH_h*TAO[7][3]/rTermACHCH_h \n",
    "                                                                        + THETAOH_h*TAO[7][4]/rTermAOH_h \n",
    "                                                                        + THETACH2COO_h*TAO[7][5]/rTermACH2COO_h \n",
    "                                                                        + THETACOOH_h*TAO[7][6]/rTermACOOH_h \n",
    "                                                                        + THETAH2O_h*TAO[7][7]/rTermAH2O_h))\n"
   ]
  },
  {
   "cell_type": "code",
   "execution_count": 34,
   "metadata": {},
   "outputs": [
    {
     "name": "stdout",
     "output_type": "stream",
     "text": [
      "0.009807577379996194\n"
     ]
    }
   ],
   "source": [
    "# Pure 1\n",
    "total_comp_group_contribution = (2*mean_p_ester + mean_m_ester + 2 + mean_n_ester + 1)\n",
    "WCH_1 = (mean_p_ester)/total_comp_group_contribution\n",
    "WCH2_1 = (mean_m_ester)/total_comp_group_contribution\n",
    "WCH3_1 = (2)/total_comp_group_contribution\n",
    "WCHCH_1 = (mean_n_ester)/total_comp_group_contribution\n",
    "WOH_1 = (mean_p_ester)/total_comp_group_contribution\n",
    "WCH2COO_1 = (1)/total_comp_group_contribution\n",
    "total_group_contribution = (group_parameters[\"CH\"][1]*WCH_1 + group_parameters[\"CH2\"][1]*WCH2_1 + group_parameters[\"CH3\"][1]*WCH3_1 + group_parameters[\"CH=CH\"][1]*WCHCH_1 + group_parameters[\"OH\"][1]*WOH_1 + group_parameters[\"CH2COO\"][1]*WCH2COO_1)\n",
    "\n",
    "THETACH_1 = group_parameters[\"CH\"][1]*WCH_1/total_group_contribution\n",
    "THETACH2_1 = group_parameters[\"CH2\"][1]*WCH2_1/total_group_contribution\n",
    "THETACH3_1 = group_parameters[\"CH3\"][1]*WCH3_1/total_group_contribution\n",
    "THETACHCH_1 = group_parameters[\"CH=CH\"][1]*WCHCH_1/total_group_contribution\n",
    "THETAOH_1 = group_parameters[\"OH\"][1]*WOH_1/total_group_contribution\n",
    "THETACH2COO_1 = group_parameters[\"CH2COO\"][1]*WCH2COO_1/total_group_contribution\n",
    "\n",
    "\n",
    "rTermACH_1 = THETACH_1*TAO[0][0] + THETACH2_1*TAO[1][0] + THETACH3_1*TAO[2][0] +THETACHCH_1*TAO[3][0] + THETAOH_1*TAO[4][0] + THETACH2COO_1*TAO[5][0] #Fix Column\n",
    "rTermACH2_1 = THETACH_1*TAO[0][1] + THETACH2_1*TAO[1][1] + THETACH3_1*TAO[2][1] +THETACHCH_1*TAO[3][1] + THETAOH_1*TAO[4][1] + THETACH2COO_1*TAO[5][1] #Fix Column\n",
    "rTermACH3_1 = THETACH_1*TAO[0][2] +THETACH2_1*TAO[1][2] + THETACH3_1*TAO[2][2] +THETACHCH_1*TAO[3][2] + THETAOH_1*TAO[4][2] + THETACH2COO_1*TAO[5][2]  #Fix Column\n",
    "rTermACHCH_1 = THETACH_1*TAO[0][3] +THETACH2_1*TAO[1][3] + THETACH3_1*TAO[2][3] +THETACHCH_1*TAO[3][3] + THETAOH_1*TAO[4][3] + THETACH2COO_1*TAO[5][3] #Fix Column\n",
    "rTermAOH_1 = THETACH_1*TAO[0][4] +THETACH2_1*TAO[1][4] + THETACH3_1*TAO[2][4] +THETACHCH_1*TAO[3][4] + THETAOH_1*TAO[4][4] + THETACH2COO_1*TAO[5][4] #Fix Column\n",
    "rTermACH2COO_1 = THETACH_1*TAO[0][5] +THETACH2_1*TAO[1][5] + THETACH3_1*TAO[2][5] +THETACHCH_1*TAO[3][5] + THETAOH_1*TAO[4][5] + THETACH2COO_1*TAO[5][5] #Fix Column\n",
    "\n",
    "lngammar_CH_1 = group_parameters[\"CH\"][1]*(1 - np.log(rTermACH_1) - (THETACH_1*TAO[0][0]/rTermACH_1\n",
    "                                                                                           + THETACH2_1*TAO[0][1]/rTermACH2_1\n",
    "                                                                                           + THETACH3_1*TAO[0][2]/rTermACH3_1\n",
    "                                                                                           + THETACHCH_1*TAO[0][3]/rTermACHCH_1 \n",
    "                                                                                           + THETAOH_1*TAO[0][4]/rTermAOH_1\n",
    "                                                                                           + THETACH2COO_1*TAO[0][5]/rTermACH2COO_1 \n",
    "                                                                                           ))\n",
    "\n",
    "\n",
    "lngammar_CH2_1 = group_parameters[\"CH2\"][1]*(1 - np.log(rTermACH2_1) - (THETACH_1*TAO[1][0]/rTermACH_1\n",
    "                                                                                           + THETACH2_1*TAO[1][1]/rTermACH2_1\n",
    "                                                                                           + THETACH3_1*TAO[1][2]/rTermACH3_1\n",
    "                                                                                           + THETACHCH_1*TAO[1][3]/rTermACHCH_1\n",
    "                                                                                           + THETAOH_1*TAO[1][4]/rTermAOH_1\n",
    "                                                                                           + THETACH2COO_1*TAO[1][5]/rTermACH2COO_1\n",
    "                                                                                          ))\n",
    "\n",
    "\n",
    "\n",
    "lngammar_CH3_1 = group_parameters[\"CH3\"][1]*(1 - np.log(rTermACH3_1) - (THETACH_1*TAO[2][0]/rTermACH_1\n",
    "                                                                                           + THETACH2_1*TAO[2][1]/rTermACH2_1\n",
    "                                                                                           + THETACH3_1*TAO[2][2]/rTermACH3_1\n",
    "                                                                                           + THETACHCH_1*TAO[2][3]/rTermACHCH_1 \n",
    "                                                                                           + THETAOH_1*TAO[2][4]/rTermAOH_1\n",
    "                                                                                           + THETACH2COO_1*TAO[2][5]/rTermACH2COO_1\n",
    "                                                                                         ))\n",
    "\n",
    "\n",
    "lngammar_CHCH_1 = group_parameters[\"CH=CH\"][1]*(1 - np.log(rTermACHCH_1) - (THETACH_1*TAO[3][0]/rTermACH_1\n",
    "                                                                                           + THETACH2_1*TAO[3][1]/rTermACH2_1\n",
    "                                                                                           + THETACH3_1*TAO[3][2]/rTermACH3_1\n",
    "                                                                                           + THETACHCH_1*TAO[3][3]/rTermACHCH_1 \n",
    "                                                                                           + THETAOH_1*TAO[3][4]/rTermAOH_1\n",
    "                                                                                           + THETACH2COO_1*TAO[3][5]/rTermACH2COO_1\n",
    "                                                                                           ))\n",
    "\n",
    "\n",
    "\n",
    "lngammar_OH_1 = group_parameters[\"OH\"][1]*(1 - np.log(rTermAOH_1) - (THETACH_1*TAO[4][0]/rTermACH_1\n",
    "                                                                                           + THETACH2_1*TAO[4][1]/rTermACH2_1\n",
    "                                                                                           + THETACH3_1*TAO[4][2]/rTermACH3_1\n",
    "                                                                                           + THETACHCH_1*TAO[4][3]/rTermACHCH_1 \n",
    "                                                                                           + THETAOH_1*TAO[4][4]/rTermAOH_1\n",
    "                                                                                           + THETACH2COO_1*TAO[4][5]/rTermACH2COO_1\n",
    "                                                                                          ))\n",
    "\n",
    "lngammar_CH2COO_1 = group_parameters[\"CH2COO\"][1]*(1 - np.log(rTermACH2COO_1) - (THETACH_1*TAO[5][0]/rTermACH_1\n",
    "                                                                                           + THETACH2_1*TAO[5][1]/rTermACH2_1\n",
    "                                                                                           + THETACH3_1*TAO[5][2]/rTermACH3_1\n",
    "                                                                                           + THETACHCH_1*TAO[5][3]/rTermACHCH_1 \n",
    "                                                                                           + THETAOH_1*TAO[5][4]/rTermAOH_1\n",
    "                                                                                           + THETACH2COO_1*TAO[5][5]/rTermACH2COO_1\n",
    "                                                                                           ))\n",
    "\n",
    "print(lngammar_CH2_1)"
   ]
  },
  {
   "cell_type": "code",
   "execution_count": 35,
   "metadata": {},
   "outputs": [
    {
     "data": {
      "text/plain": [
       "-0.32379155090866657"
      ]
     },
     "execution_count": 35,
     "metadata": {},
     "output_type": "execute_result"
    }
   ],
   "source": [
    "np.log(rTermACH_1)"
   ]
  },
  {
   "cell_type": "code",
   "execution_count": 36,
   "metadata": {},
   "outputs": [
    {
     "name": "stdout",
     "output_type": "stream",
     "text": [
      "-0.44697194277187785\n"
     ]
    }
   ],
   "source": [
    "# Pure 2\n",
    "\n",
    "total_comp_group_contribution = (2)\n",
    "WCH3_2 = (1)/total_comp_group_contribution\n",
    "WOH_2 = (1)/total_comp_group_contribution\n",
    "\n",
    "total_group_contribution = ( group_parameters[\"CH3\"][1]*WCH3_2  + group_parameters[\"OH\"][1]*WOH_2)\n",
    "\n",
    "THETACH3_2 = group_parameters[\"CH3\"][1]*WCH3_2/total_group_contribution\n",
    "THETAOH_2 = group_parameters[\"OH\"][1]*WOH_2/total_group_contribution\n",
    "\n",
    "\n",
    "\n",
    "rTermACH3_2 = THETACH3_2*TAO[2][2]  + THETAOH_2*TAO[4][2]  #Fix Column\n",
    "rTermAOH_2 = THETACH3_2*TAO[2][4] + THETAOH_2*TAO[4][4]  #Fix Column\n",
    "\n",
    "lngammar_CH3_2 = group_parameters[\"CH3\"][1]*(1 - np.log(rTermACH3_2) - (THETACH3_2*TAO[2][2]/rTermACH3_2\n",
    "                                                                                           + THETAOH_2*TAO[2][4]/rTermAOH_2))\n",
    "\n",
    "lngammar_OH_2 = group_parameters[\"OH\"][1]*(1 - np.log(rTermAOH_2) -(THETACH3_2*TAO[4][2]/rTermACH3_2\n",
    "                                                                                           + THETAOH_2*TAO[4][4]/rTermAOH_2))\n",
    "\n",
    "\n",
    "\n",
    "print(lngammar_CH3_2)\n"
   ]
  },
  {
   "cell_type": "code",
   "execution_count": 37,
   "metadata": {},
   "outputs": [],
   "source": [
    "# Pure 3\n",
    "total_comp_group_contribution = (6)\n",
    "WCH_3 = (1)/total_comp_group_contribution\n",
    "WCH2_3 = (2)/total_comp_group_contribution\n",
    "WOH_3 = (3)/total_comp_group_contribution\n",
    "\n",
    "total_group_contribution = (group_parameters[\"CH\"][1]*WCH_3 + group_parameters[\"CH2\"][1]*WCH2_3 + group_parameters[\"OH\"][1]*WOH_3)\n",
    "\n",
    "THETACH_3 = group_parameters[\"CH\"][1]*WCH_3/total_group_contribution\n",
    "THETACH2_3 = group_parameters[\"CH2\"][1]*WCH2_3/total_group_contribution\n",
    "THETAOH_3 = group_parameters[\"OH\"][1]*WOH_3/total_group_contribution\n",
    "\n",
    "rTermACH_3 = THETACH_3*TAO[0][0] + THETACH2_3*TAO[1][0] + THETAOH_3*TAO[4][0] #Fix Column\n",
    "rTermACH2_3 = THETACH_3*TAO[0][1] + THETACH2_3*TAO[1][1] + THETAOH_3*TAO[4][1] #Fix Column\n",
    "rTermAOH_3 = THETACH_3*TAO[0][4] +THETACH2_3*TAO[1][4] + THETAOH_3*TAO[4][4]  #Fix Column\n",
    "\n",
    "lngammar_CH_3 = group_parameters[\"CH\"][1]*(1 - np.log(rTermACH_3) - (THETACH_3*TAO[0][0]/rTermACH_3\n",
    "                                                                                           + THETACH2_3*TAO[0][1]/rTermACH2_3 \n",
    "                                                                                           + THETAOH_3*TAO[0][4]/rTermAOH_3))\n",
    "\n",
    "\n",
    "lngammar_CH2_3 = group_parameters[\"CH2\"][1]*(1 - np.log(rTermACH2_3) - (THETACH_3*TAO[1][0]/rTermACH_3\n",
    "                                                                                           + THETACH2_3*TAO[1][1]/rTermACH2_3 \n",
    "                                                                                           + THETAOH_3*TAO[1][4]/rTermAOH_3))\n",
    "\n",
    "lngammar_OH_3 = group_parameters[\"OH\"][1]*(1 - np.log(rTermAOH_3) - (THETACH_3*TAO[4][0]/rTermACH_3\n",
    "                                                                                           + THETACH2_3*TAO[4][1]/rTermACH2_3 \n",
    "                                                                                           + THETAOH_3*TAO[4][4]/rTermAOH_3))"
   ]
  },
  {
   "cell_type": "code",
   "execution_count": 38,
   "metadata": {},
   "outputs": [],
   "source": [
    "lngammar_1_l = (mean_p_ester*(lngammar_CH_l - lngammar_CH_1) \n",
    "                + mean_m_ester*(lngammar_CH2_l - lngammar_CH2_1) \n",
    "                + 2*(lngammar_CH3_l - lngammar_CH3_1)\n",
    "                + mean_n_ester*(lngammar_CHCH_l - lngammar_CHCH_1)\n",
    "                + mean_p_ester*(lngammar_OH_l - lngammar_OH_1)\n",
    "                + 1*(lngammar_CH2COO_l - lngammar_CH2COO_1))\n",
    "\n",
    "lngammar_2_l = ((lngammar_CH3_l - lngammar_CH3_2)\n",
    "                + 1*(lngammar_OH_l - lngammar_OH_2))\n",
    "\n",
    "lngammar_3_l = ((lngammar_CH_l - lngammar_CH_3)\n",
    "                + 2*(lngammar_CH2_l - lngammar_CH2_3)\n",
    "                + 3*(lngammar_OH_l - lngammar_OH_3))"
   ]
  },
  {
   "cell_type": "code",
   "execution_count": 39,
   "metadata": {},
   "outputs": [
    {
     "name": "stdout",
     "output_type": "stream",
     "text": [
      "-0.24653175334991323 -0.20293909743170035\n",
      "-0.4054116904368221 -1.124452833151302\n",
      "0.19976508182606412 -4.524727056168056\n"
     ]
    }
   ],
   "source": [
    "print(lngammac_l_1, lngammar_1_l)\n",
    "\n",
    "print(lngammac_l_2, lngammar_2_l)\n",
    "\n",
    "print(lngammac_l_3, lngammar_3_l)"
   ]
  },
  {
   "cell_type": "code",
   "execution_count": 40,
   "metadata": {},
   "outputs": [],
   "source": [
    "lngammar_1_h = (mean_p_ester*(lngammar_CH_h - lngammar_CH_1) \n",
    "                + mean_m_ester*(lngammar_CH2_h - lngammar_CH2_1) \n",
    "                + 2*(lngammar_CH3_h - lngammar_CH3_1)\n",
    "                + mean_n_ester*(lngammar_CHCH_h - lngammar_CHCH_1)\n",
    "                + mean_p_ester*(lngammar_OH_h - lngammar_OH_1)\n",
    "                + 1*(lngammar_CH2COO_h - lngammar_CH2COO_1))\n",
    "\n",
    "lngammar_2_h = ((lngammar_CH3_h - lngammar_CH3_2)\n",
    "                + 1*(lngammar_OH_h - lngammar_OH_2))\n",
    "\n",
    "lngammar_3_h = (1*(lngammar_CH_h - lngammar_CH_3)\n",
    "                + 2*(lngammar_CH2_h - lngammar_CH2_3)\n",
    "                + 3*(lngammar_OH_h - lngammar_OH_3))"
   ]
  },
  {
   "cell_type": "code",
   "execution_count": 41,
   "metadata": {},
   "outputs": [
    {
     "name": "stdout",
     "output_type": "stream",
     "text": [
      "-0.5809101974238637 -35.899074593395355\n",
      "-0.09968666648961495 -0.06764800806957144\n",
      "-0.10241743524452984 -0.08318114212987215\n"
     ]
    }
   ],
   "source": [
    "print(lngammac_h_1, lngammar_1_h)\n",
    "\n",
    "print(lngammac_h_2, lngammar_2_h)\n",
    "\n",
    "print(lngammac_h_3, lngammar_3_h)"
   ]
  },
  {
   "cell_type": "code",
   "execution_count": 42,
   "metadata": {},
   "outputs": [],
   "source": [
    "lngamma_1_l = lngammac_l_1 + lngammar_1_l\n",
    "lngamma_1_h = lngammac_h_1 + lngammar_1_h\n",
    "\n",
    "lngamma_2_l = lngammac_l_2 + lngammar_2_l\n",
    "lngamma_2_h = lngammac_h_2 + lngammar_2_h\n",
    "\n",
    "lngamma_3_l = lngammac_l_3 + lngammar_3_l\n",
    "lngamma_3_h = lngammac_h_3 + lngammar_3_h\n"
   ]
  },
  {
   "cell_type": "code",
   "execution_count": 43,
   "metadata": {},
   "outputs": [
    {
     "name": "stdout",
     "output_type": "stream",
     "text": [
      "-0.24653175334991323 -0.20293909743170035\n"
     ]
    }
   ],
   "source": [
    "print(lngammac_l_1, lngammar_1_l)"
   ]
  },
  {
   "cell_type": "code",
   "execution_count": 44,
   "metadata": {},
   "outputs": [
    {
     "name": "stdout",
     "output_type": "stream",
     "text": [
      "-0.4494708507816136 -36.479984790819216\n",
      "-1.529864523588124 -0.16733467455918638\n",
      "-4.324961974341992 -0.185598577374402\n"
     ]
    }
   ],
   "source": [
    "print(lngamma_1_l, lngamma_1_h)\n",
    "\n",
    "print(lngamma_2_l, lngamma_2_h)\n",
    "\n",
    "print(lngamma_3_l, lngamma_3_h)"
   ]
  },
  {
   "cell_type": "code",
   "execution_count": 45,
   "metadata": {},
   "outputs": [],
   "source": [
    "gamma_1_l = np.exp(lngamma_1_l)\n",
    "gamma_1_h = np.exp(lngamma_1_h)\n",
    "\n",
    "gamma_2_l = np.exp(lngamma_2_l)\n",
    "gamma_2_h = np.exp(lngamma_2_h)\n",
    "\n",
    "gamma_3_l = np.exp(lngamma_3_l)\n",
    "gamma_3_h = np.exp(lngamma_3_h)"
   ]
  },
  {
   "cell_type": "code",
   "execution_count": 46,
   "metadata": {},
   "outputs": [
    {
     "name": "stdout",
     "output_type": "stream",
     "text": [
      "0.6379656413431616 1.4353040339024207e-16\n",
      "0.2165650047784804 0.8459164572401595\n",
      "0.013234053320558785 0.8306069524925422\n"
     ]
    }
   ],
   "source": [
    "print(gamma_1_l, gamma_1_h)\n",
    "\n",
    "print(gamma_2_l, gamma_2_h)\n",
    "\n",
    "print(gamma_3_l, gamma_3_h)"
   ]
  },
  {
   "cell_type": "code",
   "execution_count": 47,
   "metadata": {},
   "outputs": [],
   "source": [
    "K1 = gamma_1_l/gamma_1_h\n",
    "\n",
    "K2 = gamma_2_l/gamma_2_h\n",
    "\n",
    "K3 = gamma_3_l/gamma_3_h"
   ]
  },
  {
   "cell_type": "code",
   "execution_count": 48,
   "metadata": {},
   "outputs": [
    {
     "name": "stdout",
     "output_type": "stream",
     "text": [
      "4444811874516990.0 0.2560122845759893 0.015932991267223483\n"
     ]
    }
   ],
   "source": [
    "print(K1, K2, K3)"
   ]
  },
  {
   "cell_type": "code",
   "execution_count": 49,
   "metadata": {},
   "outputs": [],
   "source": [
    "w1h_model = K1*w1l\n",
    "\n",
    "w2h_model = K2*w2l\n",
    "\n",
    "w3h_model = 1 - w1h_model - w2h_model"
   ]
  },
  {
   "cell_type": "code",
   "execution_count": 50,
   "metadata": {},
   "outputs": [
    {
     "name": "stdout",
     "output_type": "stream",
     "text": [
      "3804758964586543.5 0.002265\n"
     ]
    }
   ],
   "source": [
    "print(w1h_model, w1h)"
   ]
  },
  {
   "cell_type": "code",
   "execution_count": 51,
   "metadata": {},
   "outputs": [
    {
     "name": "stdout",
     "output_type": "stream",
     "text": [
      "0.02969742501081476 0.323\n"
     ]
    }
   ],
   "source": [
    "print(w2h_model, w2h)"
   ]
  },
  {
   "cell_type": "code",
   "execution_count": 52,
   "metadata": {},
   "outputs": [
    {
     "name": "stdout",
     "output_type": "stream",
     "text": [
      "-3804758964586542.5 0.675\n"
     ]
    }
   ],
   "source": [
    "print(w3h_model, w3h)"
   ]
  },
  {
   "cell_type": "markdown",
   "metadata": {},
   "source": [
    "#### 3. Calculate phase distribution"
   ]
  },
  {
   "cell_type": "code",
   "execution_count": 53,
   "metadata": {},
   "outputs": [],
   "source": [
    "def calculate_gamma(group_parameters, FA_profile, TAO, comps):\n",
    "   \n",
    "    w1l = comps[0]\n",
    "    w2l = comps[1]\n",
    "    w3l = comps[2]\n",
    "    w1h = comps[3]\n",
    "    w2h = comps[4]\n",
    "    w3h = comps[5]\n",
    "    \n",
    "    frac_acid_molar = []\n",
    "    frac_ester_molar = []\n",
    "    PM_acid = []\n",
    "    PM_ester = []\n",
    "    total_mol_acid = 0\n",
    "    total_mol_ester = 0\n",
    "\n",
    "\n",
    "    for i in FA_profile.values():\n",
    "        \n",
    "        mol_acid = i[0]/i[1]\n",
    "        mol_ester = i[0]/(i[1] + 14)\n",
    "        total_mol_acid += mol_acid \n",
    "        total_mol_ester += mol_ester\n",
    "        \n",
    "        PM_acid.append(i[1])\n",
    "        PM_ester.append(i[1]+14) \n",
    "        frac_acid_molar.append(mol_acid)\n",
    "        frac_ester_molar.append(mol_ester)\n",
    "\n",
    "    frac_acid_molar = np.array(frac_acid_molar)/total_mol_acid\n",
    "    frac_ester_molar = np.array(frac_ester_molar)/total_mol_ester\n",
    "    PM_acid = np.array(PM_acid) \n",
    "    PM_ester = np.array(PM_ester) \n",
    "    \n",
    "    M_acid = np.dot(frac_acid_molar, PM_acid)\n",
    "    M_ester = np.dot(frac_ester_molar, PM_ester)\n",
    "    M_OH = 32.04\n",
    "    M_Gly = 92.09382\n",
    "\n",
    "    mean_n_acid = np.dot(frac_acid_molar, n_inst)\n",
    "    mean_n_ester = np.dot(frac_ester_molar, n_inst)\n",
    "\n",
    "    mean_p_acid = np.dot(frac_acid_molar, p_OH)\n",
    "    mean_p_ester = np.dot(frac_ester_molar, p_OH)\n",
    "\n",
    "\n",
    "    mean_m_acid = np.dot(frac_acid_molar, m)\n",
    "    mean_m_ester = np.dot(frac_ester_molar, m)\n",
    "    \n",
    "    # Calculate r and q\n",
    "    r1 = 1/M_ester*(mean_p_ester*group_parameters['CH'][0] + mean_m_ester*group_parameters['CH2'][0] + 2*group_parameters['CH3'][0] + mean_n_ester*group_parameters['CH=CH'][0] + mean_p_ester*group_parameters['OH'][0]  + 1*group_parameters['CH2COO'][0]) # If CH3 is removed in both cases it doesn changes much\n",
    "    r2 = 1/M_OH*(1*group_parameters['CH3'][0] + 1*group_parameters['OH'][0])\n",
    "    r3 = 1/M_Gly*(1*group_parameters['CH'][0] + 2*group_parameters['CH2'][0] + 3*group_parameters['OH'][0])\n",
    "\n",
    "    q1 = 1/M_ester*(mean_p_ester*group_parameters['CH'][1] + mean_m_ester*group_parameters['CH2'][1] + 2*group_parameters['CH3'][1] + mean_n_ester*group_parameters['CH=CH'][1] + mean_p_ester*group_parameters['OH'][1] + 1*group_parameters['CH2COO'][1])\n",
    "    q2 = 1/M_OH*(1*group_parameters['CH3'][1] + 1*group_parameters['OH'][1])\n",
    "    q3 = 1/M_Gly*(1*group_parameters['CH'][1] + 2*group_parameters['CH2'][1] + 3*group_parameters['OH'][1])\n",
    "\n",
    "    # Light Phase\n",
    "    zeta_l = w1l/M_ester + w2l/M_OH + w3l/M_Gly\n",
    "\n",
    "    # Calculate phi and theta\n",
    "    phi1_l = r1*w1l/(r1*w1l + r2*w2l + r2*w3l)\n",
    "    phi2_l = r2*w2l/(r1*w1l + r2*w2l + r2*w3l)\n",
    "    phi3_l = r3*w3l/(r1*w1l + r2*w2l + r2*w3l)\n",
    "\n",
    "    theta1_l = q1*w1l/(q1*w1l + q2*w2l + q2*w3l)\n",
    "    theta2_l = q2*w2l/(q1*w1l + q2*w2l + q2*w3l)\n",
    "    theta3_l = q3*w3l/(q1*w1l + q2*w2l + q2*w3l)\n",
    "\n",
    "    #Calculate combinatorial\n",
    "    termA_1_l = zeta_l*M_ester*phi1_l/w1l\n",
    "    termB_1_l = phi1_l/theta1_l\n",
    "    termC_1_l = theta1_l/phi1_l\n",
    "    lngammac_l_1 = 1 - termA_1_l + np.log(termA_1_l) - 5*q1*M_ester*(1-(termB_1_l) - np.log(termC_1_l))\n",
    "\n",
    "    termA_2_l = zeta_l*M_OH*phi2_l/w2l\n",
    "    termB_2_l = phi2_l/theta2_l\n",
    "    termC_2_l = theta2_l/phi2_l\n",
    "    lngammac_l_2 = 1 - termA_2_l + np.log(termA_2_l) - 5*q2*M_OH*(1-(termB_2_l) - np.log(termC_2_l))\n",
    "\n",
    "    termA_3_l = zeta_l*M_Gly*phi3_l/w3l\n",
    "    termB_3_l = phi3_l/theta3_l\n",
    "    termC_3_l = theta3_l/phi3_l\n",
    "    lngammac_l_3 = 1 - termA_3_l + np.log(termA_3_l) - 5*q3*M_Gly*(1-(termB_3_l) - np.log(termC_3_l))\n",
    "\n",
    "    # Heavy Phase\n",
    "    zeta_h = w1h/M_ester + w2h/M_OH + w3h/M_Gly\n",
    "\n",
    "    # Calculate phi and theta\n",
    "    phi1_h = r1*w1h/(r1*w1h + r2*w2h + r2*w3h)\n",
    "    phi2_h = r2*w2h/(r1*w1h + r2*w2h + r2*w3h)\n",
    "    phi3_h = r3*w3h/(r1*w1h + r2*w2h + r2*w3h)\n",
    "\n",
    "    theta1_h = q1*w1h/(q1*w1h + q2*w2h + q2*w3h)\n",
    "    theta2_h = q2*w2h/(q1*w1h + q2*w2h + q2*w3h)\n",
    "    theta3_h = q3*w3h/(q1*w1h + q2*w2h + q2*w3h)\n",
    "\n",
    "    #Calculate combinatorial\n",
    "    termA_1_h = zeta_h*M_ester*phi1_h/w1h\n",
    "    termB_1_h = phi1_h/theta1_h\n",
    "    termC_1_h = theta1_h/phi1_h\n",
    "    lngammac_h_1 = 1 - termA_1_h + np.log(termA_1_h) - 5*q1*M_ester*(1-(termB_1_h) - np.log(termC_1_h))\n",
    "\n",
    "    termA_2_h = zeta_h*M_OH*phi2_h/w2h\n",
    "    termB_2_h = phi2_h/theta2_h\n",
    "    termC_2_h = theta2_h/phi2_h\n",
    "    lngammac_h_2 = 1 - termA_2_h + np.log(termA_2_h) - 5*q2*M_OH*(1-(termB_2_h) - np.log(termC_2_h))\n",
    "\n",
    "    termA_3_h = zeta_h*M_Gly*phi3_h/w3h\n",
    "    termB_3_h = phi3_h/theta3_h\n",
    "    termC_3_h = theta3_h/phi3_h\n",
    "    lngammac_h_3 = 1 - termA_3_h + np.log(termA_3_h) - 5*q3*M_Gly*(1-(termB_3_h) - np.log(termC_3_h))\n",
    "    \n",
    "    # Light phase\n",
    "    total_comp_group_contribution = (mean_p_ester + mean_m_ester + 2 + mean_n_ester + 1) + (2) + (6)\n",
    "    WCH_l = (mean_p_ester + 1)/total_comp_group_contribution\n",
    "    WCH2_l = (mean_m_ester + 2)/total_comp_group_contribution\n",
    "    WCH3_l = (2 + 1)/total_comp_group_contribution\n",
    "    WCHCH_l = (mean_n_ester)/total_comp_group_contribution\n",
    "    WOH_l = (mean_p_ester + 1 + 3)/total_comp_group_contribution\n",
    "    WCH2COO_l = (1)/total_comp_group_contribution\n",
    "    WCOOH_l = 0/total_comp_group_contribution\n",
    "    WH2O_l = 0/total_comp_group_contribution\n",
    "\n",
    "    total_group_contribution = (group_parameters[\"CH\"][1]*WCH_l + group_parameters[\"CH2\"][1]*WCH2_l + group_parameters[\"CH3\"][1]*WCH3_l + group_parameters[\"CH=CH\"][1]*WCHCH_l + group_parameters[\"OH\"][1]*WOH_l + group_parameters[\"CH2COO\"][1]*WCH2COO_l + group_parameters[\"COOH\"][1]*WCOOH_l + group_parameters[\"H2O\"][1]*WH2O_l)\n",
    "\n",
    "    THETACH_l = group_parameters[\"CH\"][1]*WCH_l/total_group_contribution\n",
    "    THETACH2_l = group_parameters[\"CH2\"][1]*WCH2_l/total_group_contribution\n",
    "    THETACH3_l = group_parameters[\"CH3\"][1]*WCH3_l/total_group_contribution\n",
    "    THETACHCH_l = group_parameters[\"CH=CH\"][1]*WCHCH_l/total_group_contribution\n",
    "    THETAOH_l = group_parameters[\"OH\"][1]*WOH_l/total_group_contribution\n",
    "    THETACH2COO_l = group_parameters[\"CH2COO\"][1]*WCH2COO_l/total_group_contribution\n",
    "    THETACOOH_l = group_parameters[\"COOH\"][1]*WCOOH_l/total_group_contribution\n",
    "    THETAH2O_l = group_parameters[\"H2O\"][1]*WH2O_l/total_group_contribution\n",
    "\n",
    "    rTermACH_l = THETACH_l*TAO[0][0] + THETACH2_l*TAO[1][0] + THETACH3_l*TAO[2][0] +THETACHCH_l*TAO[3][0] + THETAOH_l*TAO[4][0] + THETACH2COO_l*TAO[5][0]+ THETACOOH_l*TAO[6][0]+ THETAH2O_l*TAO[7][0] #Fix Column\n",
    "    rTermACH2_l = THETACH_l*TAO[0][1] + THETACH2_l*TAO[1][1] + THETACH3_l*TAO[2][1] +THETACHCH_l*TAO[3][1] + THETAOH_l*TAO[4][1] + THETACH2COO_l*TAO[5][1]+ THETACOOH_l*TAO[6][1]+ THETAH2O_l*TAO[7][1] #Fix Column\n",
    "    rTermACH3_l = THETACH_l*TAO[0][2] +THETACH2_l*TAO[1][2] + THETACH3_l*TAO[2][2] +THETACHCH_l*TAO[3][2] + THETAOH_l*TAO[4][2] + THETACH2COO_l*TAO[5][2]+ THETACOOH_l*TAO[6][2]+ THETAH2O_l*TAO[7][2] #Fix Column\n",
    "    rTermACHCH_l = THETACH_l*TAO[0][3] +THETACH2_l*TAO[1][3] + THETACH3_l*TAO[2][3] +THETACHCH_l*TAO[3][3] + THETAOH_l*TAO[4][3] + THETACH2COO_l*TAO[5][3]+ THETACOOH_l*TAO[6][3]+ THETAH2O_l*TAO[7][3] #Fix Column\n",
    "    rTermAOH_l = THETACH_l*TAO[0][4] +THETACH2_l*TAO[1][4] + THETACH3_l*TAO[2][4] +THETACHCH_l*TAO[3][4] + THETAOH_l*TAO[4][4] + THETACH2COO_l*TAO[5][4]+ THETACOOH_l*TAO[6][4]+ THETAH2O_l*TAO[7][4] #Fix Column\n",
    "    rTermACH2COO_l = THETACH_l*TAO[0][5] +THETACH2_l*TAO[1][5] + THETACH3_l*TAO[2][5] +THETACHCH_l*TAO[3][5] + THETAOH_l*TAO[4][5] + THETACH2COO_l*TAO[5][5]+ THETACOOH_l*TAO[6][5]+ THETAH2O_l*TAO[7][5] #Fix Column\n",
    "    rTermACOOH_l = THETACH_l*TAO[0][6] +THETACH2_l*TAO[1][6] + THETACH3_l*TAO[2][6] +THETACHCH_l*TAO[3][6] + THETAOH_l*TAO[4][6] + THETACH2COO_l*TAO[5][6]+ THETACOOH_l*TAO[6][6]+ THETAH2O_l*TAO[7][6] #Fix Column\n",
    "    rTermAH2O_l = THETACH_l*TAO[0][7] +THETACH2_l*TAO[1][7] + THETACH3_l*TAO[2][7] +THETACHCH_l*TAO[3][7] + THETAOH_l*TAO[4][7] + THETACH2COO_l*TAO[5][7]+ THETACOOH_l*TAO[6][7]+ THETAH2O_l*TAO[7][7] #Fix Column\n",
    "\n",
    "    lngammar_CH_l = group_parameters[\"CH\"][1]*(1 - np.log(rTermACH_l) - (THETACH_l*TAO[0][0]/rTermACH_l \n",
    "                                                                        + THETACH2_l*TAO[0][1]/rTermACH2_l \n",
    "                                                                        + THETACH3_l*TAO[0][2]/rTermACH3_l \n",
    "                                                                        + THETACHCH_l*TAO[0][3]/rTermACHCH_l \n",
    "                                                                        + THETAOH_l*TAO[0][4]/rTermAOH_l \n",
    "                                                                        + THETACH2COO_l*TAO[0][5]/rTermACH2COO_l \n",
    "                                                                        + THETACOOH_l*TAO[0][6]/rTermACOOH_l \n",
    "                                                                        + THETAH2O_l*TAO[0][7]/rTermAH2O_l))\n",
    "\n",
    "    lngammar_CH2_l = group_parameters[\"CH2\"][1]*(1 - np.log(rTermACH2_l) - (THETACH_l*TAO[1][0]/rTermACH_l \n",
    "                                                                            + THETACH2_l*TAO[1][1]/rTermACH2_l \n",
    "                                                                            + THETACH3_l*TAO[1][2]/rTermACH3_l \n",
    "                                                                            + THETACHCH_l*TAO[1][3]/rTermACHCH_l \n",
    "                                                                            + THETAOH_l*TAO[1][4]/rTermAOH_l \n",
    "                                                                            + THETACH2COO_l*TAO[1][5]/rTermACH2COO_l \n",
    "                                                                            + THETACOOH_l*TAO[1][6]/rTermACOOH_l \n",
    "                                                                            + THETAH2O_l*TAO[1][7]/rTermAH2O_l))\n",
    "\n",
    "    lngammar_CH3_l = group_parameters[\"CH3\"][1]*(1 - np.log(rTermACH3_l) - (THETACH_l*TAO[2][0]/rTermACH_l \n",
    "                                                                            + THETACH2_l*TAO[2][1]/rTermACH2_l \n",
    "                                                                            + THETACH3_l*TAO[2][2]/rTermACH3_l \n",
    "                                                                            + THETACHCH_l*TAO[2][3]/rTermACHCH_l \n",
    "                                                                            + THETAOH_l*TAO[2][4]/rTermAOH_l \n",
    "                                                                            + THETACH2COO_l*TAO[2][5]/rTermACH2COO_l \n",
    "                                                                            + THETACOOH_l*TAO[2][6]/rTermACOOH_l \n",
    "                                                                            + THETAH2O_l*TAO[2][7]/rTermAH2O_l))\n",
    "\n",
    "    lngammar_CHCH_l = group_parameters[\"CH=CH\"][1]*(1 - np.log(rTermACHCH_l) - (THETACH_l*TAO[3][0]/rTermACH_l \n",
    "                                                                                + THETACH2_l*TAO[3][1]/rTermACH2_l \n",
    "                                                                                + THETACH3_l*TAO[3][2]/rTermACH3_l \n",
    "                                                                                + THETACHCH_l*TAO[3][3]/rTermACHCH_l \n",
    "                                                                                + THETAOH_l*TAO[3][4]/rTermAOH_l \n",
    "                                                                                + THETACH2COO_l*TAO[3][5]/rTermACH2COO_l \n",
    "                                                                                + THETACOOH_l*TAO[3][6]/rTermACOOH_l \n",
    "                                                                                + THETAH2O_l*TAO[3][7]/rTermAH2O_l))\n",
    "\n",
    "    lngammar_OH_l = group_parameters[\"OH\"][1]*(1 - np.log(rTermAOH_l) - (THETACH_l*TAO[4][0]/rTermACH_l \n",
    "                                                                        + THETACH2_l*TAO[4][1]/rTermACH2_l \n",
    "                                                                        + THETACH3_l*TAO[4][2]/rTermACH3_l \n",
    "                                                                        + THETACHCH_l*TAO[4][3]/rTermACHCH_l \n",
    "                                                                        + THETAOH_l*TAO[4][4]/rTermAOH_l \n",
    "                                                                        + THETACH2COO_l*TAO[4][5]/rTermACH2COO_l \n",
    "                                                                        + THETACOOH_l*TAO[4][6]/rTermACOOH_l \n",
    "                                                                        + THETAH2O_l*TAO[4][7]/rTermAH2O_l))\n",
    "\n",
    "    lngammar_CH2COO_l = group_parameters[\"CH2COO\"][1]*(1 - np.log(rTermACH2COO_l) - (THETACH_l*TAO[5][0]/rTermACH_l \n",
    "                                                                                    + THETACH2_l*TAO[5][1]/rTermACH2_l \n",
    "                                                                                    + THETACH3_l*TAO[5][2]/rTermACH3_l \n",
    "                                                                                    + THETACHCH_l*TAO[5][3]/rTermACHCH_l \n",
    "                                                                                    + THETAOH_l*TAO[5][4]/rTermAOH_l \n",
    "                                                                                    + THETACH2COO_l*TAO[5][5]/rTermACH2COO_l \n",
    "                                                                                    + THETACOOH_l*TAO[5][6]/rTermACOOH_l \n",
    "                                                                                    + THETAH2O_l*TAO[5][7]/rTermAH2O_l))\n",
    "\n",
    "    lngammar_COOH_l = group_parameters[\"COOH\"][1]*(1 - np.log(rTermACOOH_l) - (THETACH_l*TAO[6][0]/rTermACH_l \n",
    "                                                                            + THETACH2_l*TAO[6][1]/rTermACH2_l \n",
    "                                                                            + THETACH3_l*TAO[6][2]/rTermACH3_l \n",
    "                                                                            + THETACHCH_l*TAO[6][3]/rTermACHCH_l \n",
    "                                                                            + THETAOH_l*TAO[6][4]/rTermAOH_l \n",
    "                                                                            + THETACH2COO_l*TAO[6][5]/rTermACH2COO_l \n",
    "                                                                            + THETACOOH_l*TAO[6][6]/rTermACOOH_l \n",
    "                                                                            + THETAH2O_l*TAO[6][7]/rTermAH2O_l))\n",
    "\n",
    "    lngammar_H2O_l = group_parameters[\"H2O\"][1]*(1 - np.log(rTermAH2O_l) - (THETACH_l*TAO[7][0]/rTermACH_l \n",
    "                                                                            + THETACH2_l*TAO[7][1]/rTermACH2_l \n",
    "                                                                            + THETACH3_l*TAO[7][2]/rTermACH3_l \n",
    "                                                                            + THETACHCH_l*TAO[7][3]/rTermACHCH_l \n",
    "                                                                            + THETAOH_l*TAO[7][4]/rTermAOH_l \n",
    "                                                                            + THETACH2COO_l*TAO[7][5]/rTermACH2COO_l \n",
    "                                                                            + THETACOOH_l*TAO[7][6]/rTermACOOH_l \n",
    "                                                                            + THETAH2O_l*TAO[7][7]/rTermAH2O_l))\n",
    "    # heavy phase\n",
    "    total_comp_group_contribution = (mean_p_ester + mean_m_ester + 2 + mean_n_ester + 1) + (2) + (6)\n",
    "    WCH_h = (mean_p_ester + 1)/total_comp_group_contribution\n",
    "    WCH2_h = (mean_m_ester + 2)/total_comp_group_contribution\n",
    "    WCH3_h = (2 + 1)/total_comp_group_contribution\n",
    "    WCHCH_h = (mean_n_ester)/total_comp_group_contribution\n",
    "    WOH_h = (mean_p_ester + 1 + 3)/total_comp_group_contribution\n",
    "    WCH2COO_h = (1)/total_comp_group_contribution\n",
    "    WCOOH_h = 0/total_comp_group_contribution\n",
    "    WH2O_h = 0/total_comp_group_contribution\n",
    "\n",
    "    total_group_contribution = (group_parameters[\"CH\"][1]*WCH_h + group_parameters[\"CH2\"][1]*WCH2_h + group_parameters[\"CH3\"][1]*WCH3_h + group_parameters[\"CH=CH\"][1]*WCHCH_h + group_parameters[\"OH\"][1]*WOH_h + group_parameters[\"CH2COO\"][1]*WCH2COO_h + group_parameters[\"COOH\"][1]*WCOOH_h + group_parameters[\"H2O\"][1]*WH2O_h)\n",
    "\n",
    "    THETACH_h = group_parameters[\"CH\"][1]*WCH_h/total_group_contribution\n",
    "    THETACH2_h = group_parameters[\"CH2\"][1]*WCH2_h/total_group_contribution\n",
    "    THETACH3_h = group_parameters[\"CH3\"][1]*WCH3_h/total_group_contribution\n",
    "    THETACHCH_h = group_parameters[\"CH=CH\"][1]*WCHCH_h/total_group_contribution\n",
    "    THETAOH_h = group_parameters[\"OH\"][1]*WOH_h/total_group_contribution\n",
    "    THETACH2COO_h = group_parameters[\"CH2COO\"][1]*WCH2COO_h/total_group_contribution\n",
    "    THETACOOH_h = group_parameters[\"COOH\"][1]*WCOOH_h/total_group_contribution\n",
    "    THETAH2O_h = group_parameters[\"H2O\"][1]*WH2O_h/total_group_contribution\n",
    "\n",
    "    rTermACH_h = THETACH_h*TAO[0][0] + THETACH2_h*TAO[1][0] + THETACH3_h*TAO[2][0] +THETACHCH_h*TAO[3][0] + THETAOH_h*TAO[4][0] + THETACH2COO_h*TAO[5][0]+ THETACOOH_h*TAO[6][0]+ THETAH2O_h*TAO[7][0] #Fix Column\n",
    "    rTermACH2_h = THETACH_h*TAO[0][1] + THETACH2_h*TAO[1][1] + THETACH3_h*TAO[2][1] +THETACHCH_h*TAO[3][1] + THETAOH_h*TAO[4][1] + THETACH2COO_h*TAO[5][1]+ THETACOOH_h*TAO[6][1]+ THETAH2O_h*TAO[7][1] #Fix Column\n",
    "    rTermACH3_h = THETACH_h*TAO[0][2] +THETACH2_h*TAO[1][2] + THETACH3_h*TAO[2][2] +THETACHCH_h*TAO[3][2] + THETAOH_h*TAO[4][2] + THETACH2COO_h*TAO[5][2]+ THETACOOH_h*TAO[6][2]+ THETAH2O_h*TAO[7][2] #Fix Column\n",
    "    rTermACHCH_h = THETACH_h*TAO[0][3] +THETACH2_h*TAO[1][3] + THETACH3_h*TAO[2][3] +THETACHCH_h*TAO[3][3] + THETAOH_h*TAO[4][3] + THETACH2COO_h*TAO[5][3]+ THETACOOH_h*TAO[6][3]+ THETAH2O_h*TAO[7][3] #Fix Column\n",
    "    rTermAOH_h = THETACH_h*TAO[0][4] +THETACH2_h*TAO[1][4] + THETACH3_h*TAO[2][4] +THETACHCH_h*TAO[3][4] + THETAOH_h*TAO[4][4] + THETACH2COO_h*TAO[5][4]+ THETACOOH_h*TAO[6][4]+ THETAH2O_h*TAO[7][4] #Fix Column\n",
    "    rTermACH2COO_h = THETACH_h*TAO[0][5] +THETACH2_h*TAO[1][5] + THETACH3_h*TAO[2][5] +THETACHCH_h*TAO[3][5] + THETAOH_h*TAO[4][5] + THETACH2COO_h*TAO[5][5]+ THETACOOH_h*TAO[6][5]+ THETAH2O_h*TAO[7][5] #Fix Column\n",
    "    rTermACOOH_h = THETACH_h*TAO[0][6] +THETACH2_h*TAO[1][6] + THETACH3_h*TAO[2][6] +THETACHCH_h*TAO[3][6] + THETAOH_h*TAO[4][6] + THETACH2COO_h*TAO[5][6]+ THETACOOH_h*TAO[6][6]+ THETAH2O_h*TAO[7][6] #Fix Column\n",
    "    rTermAH2O_h = THETACH_h*TAO[0][7] +THETACH2_h*TAO[1][7] + THETACH3_h*TAO[2][7] +THETACHCH_h*TAO[3][7] + THETAOH_h*TAO[4][7] + THETACH2COO_h*TAO[5][7]+ THETACOOH_h*TAO[6][7]+ THETAH2O_h*TAO[7][7] #Fix Column\n",
    "\n",
    "    lngammar_CH_h = group_parameters[\"CH\"][1]*(1 - np.log(rTermACH_h) - (THETACH_h*TAO[0][0]/rTermACH_h \n",
    "                                                                        + THETACH2_h*TAO[0][1]/rTermACH2_h \n",
    "                                                                        + THETACH3_h*TAO[0][2]/rTermACH3_h \n",
    "                                                                        + THETACHCH_h*TAO[0][3]/rTermACHCH_h \n",
    "                                                                        + THETAOH_h*TAO[0][4]/rTermAOH_h \n",
    "                                                                        + THETACH2COO_h*TAO[0][5]/rTermACH2COO_h \n",
    "                                                                        + THETACOOH_h*TAO[0][6]/rTermACOOH_h \n",
    "                                                                        + THETAH2O_h*TAO[0][7]/rTermAH2O_h))\n",
    "\n",
    "    lngammar_CH2_h = group_parameters[\"CH2\"][1]*(1 - np.log(rTermACH2_h) - (THETACH_h*TAO[1][0]/rTermACH_h \n",
    "                                                                            + THETACH2_h*TAO[1][1]/rTermACH2_h \n",
    "                                                                            + THETACH3_h*TAO[1][2]/rTermACH3_h \n",
    "                                                                            + THETACHCH_h*TAO[1][3]/rTermACHCH_h \n",
    "                                                                            + THETAOH_h*TAO[1][4]/rTermAOH_h \n",
    "                                                                            + THETACH2COO_h*TAO[1][5]/rTermACH2COO_h \n",
    "                                                                            + THETACOOH_h*TAO[1][6]/rTermACOOH_h \n",
    "                                                                            + THETAH2O_h*TAO[1][7]/rTermAH2O_h))\n",
    "\n",
    "    lngammar_CH3_h = group_parameters[\"CH3\"][1]*(1 - np.log(rTermACH3_h) - (THETACH_h*TAO[2][0]/rTermACH_h \n",
    "                                                                            + THETACH2_h*TAO[2][1]/rTermACH2_h \n",
    "                                                                            + THETACH3_h*TAO[2][2]/rTermACH3_h \n",
    "                                                                            + THETACHCH_h*TAO[2][3]/rTermACHCH_h \n",
    "                                                                            + THETAOH_h*TAO[2][4]/rTermAOH_h \n",
    "                                                                            + THETACH2COO_h*TAO[2][5]/rTermACH2COO_h \n",
    "                                                                            + THETACOOH_h*TAO[2][6]/rTermACOOH_h \n",
    "                                                                            + THETAH2O_h*TAO[2][7]/rTermAH2O_h))\n",
    "\n",
    "    lngammar_CHCH_h = group_parameters[\"CH=CH\"][1]*(1 - np.log(rTermACHCH_h) - (THETACH_h*TAO[3][0]/rTermACH_h \n",
    "                                                                                + THETACH2_h*TAO[3][1]/rTermACH2_h \n",
    "                                                                                + THETACH3_h*TAO[3][2]/rTermACH3_h \n",
    "                                                                                + THETACHCH_h*TAO[3][3]/rTermACHCH_h \n",
    "                                                                                + THETAOH_h*TAO[3][4]/rTermAOH_h \n",
    "                                                                                + THETACH2COO_h*TAO[3][5]/rTermACH2COO_h \n",
    "                                                                                + THETACOOH_h*TAO[3][6]/rTermACOOH_h \n",
    "                                                                                + THETAH2O_h*TAO[3][7]/rTermAH2O_h))\n",
    "\n",
    "    lngammar_OH_h = group_parameters[\"OH\"][1]*(1 - np.log(rTermAOH_h) - (THETACH_h*TAO[4][0]/rTermACH_h \n",
    "                                                                        + THETACH2_h*TAO[4][1]/rTermACH2_h \n",
    "                                                                        + THETACH3_h*TAO[4][2]/rTermACH3_h \n",
    "                                                                        + THETACHCH_h*TAO[4][3]/rTermACHCH_h \n",
    "                                                                        + THETAOH_h*TAO[4][4]/rTermAOH_h \n",
    "                                                                        + THETACH2COO_h*TAO[4][5]/rTermACH2COO_h \n",
    "                                                                        + THETACOOH_h*TAO[4][6]/rTermACOOH_h \n",
    "                                                                        + THETAH2O_h*TAO[4][7]/rTermAH2O_h))\n",
    "\n",
    "    lngammar_CH2COO_h = group_parameters[\"CH2COO\"][1]*(1 - np.log(rTermACH2COO_h) - (THETACH_h*TAO[5][0]/rTermACH_h \n",
    "                                                                                    + THETACH2_h*TAO[5][1]/rTermACH2_h \n",
    "                                                                                    + THETACH3_h*TAO[5][2]/rTermACH3_h \n",
    "                                                                                    + THETACHCH_h*TAO[5][3]/rTermACHCH_h \n",
    "                                                                                    + THETAOH_h*TAO[5][4]/rTermAOH_h \n",
    "                                                                                    + THETACH2COO_h*TAO[5][5]/rTermACH2COO_h \n",
    "                                                                                    + THETACOOH_h*TAO[5][6]/rTermACOOH_h \n",
    "                                                                                    + THETAH2O_h*TAO[5][7]/rTermAH2O_h))\n",
    "\n",
    "    lngammar_COOH_h = group_parameters[\"COOH\"][1]*(1 - np.log(rTermACOOH_h) - (THETACH_h*TAO[6][0]/rTermACH_h \n",
    "                                                                            + THETACH2_h*TAO[6][1]/rTermACH2_h \n",
    "                                                                            + THETACH3_h*TAO[6][2]/rTermACH3_h \n",
    "                                                                            + THETACHCH_h*TAO[6][3]/rTermACHCH_h \n",
    "                                                                            + THETAOH_h*TAO[6][4]/rTermAOH_h \n",
    "                                                                            + THETACH2COO_h*TAO[6][5]/rTermACH2COO_h \n",
    "                                                                            + THETACOOH_h*TAO[6][6]/rTermACOOH_h \n",
    "                                                                            + THETAH2O_h*TAO[6][7]/rTermAH2O_h))\n",
    "\n",
    "    lngammar_H2O_h = group_parameters[\"H2O\"][1]*(1 - np.log(rTermAH2O_h) - (THETACH_h*TAO[7][0]/rTermACH_h \n",
    "                                                                            + THETACH2_h*TAO[7][1]/rTermACH2_h \n",
    "                                                                            + THETACH3_h*TAO[7][2]/rTermACH3_h \n",
    "                                                                            + THETACHCH_h*TAO[7][3]/rTermACHCH_h \n",
    "                                                                            + THETAOH_h*TAO[7][4]/rTermAOH_h \n",
    "                                                                            + THETACH2COO_h*TAO[7][5]/rTermACH2COO_h \n",
    "                                                                            + THETACOOH_h*TAO[7][6]/rTermACOOH_h \n",
    "                                                                            + THETAH2O_h*TAO[7][7]/rTermAH2O_h))\n",
    "\n",
    "    # Pure 1\n",
    "    total_comp_group_contribution = (mean_p_ester + mean_m_ester + 2*+ mean_n_ester + 1)\n",
    "    WCH_1 = (mean_p_ester)/total_comp_group_contribution\n",
    "    WCH2_1 = (mean_m_ester)/total_comp_group_contribution\n",
    "    WCH3_1 = (2)/total_comp_group_contribution\n",
    "    WCHCH_1 = (mean_n_ester)/total_comp_group_contribution\n",
    "    WOH_1 = (mean_p_ester)/total_comp_group_contribution\n",
    "    WCH2COO_1 = (1)/total_comp_group_contribution\n",
    "\n",
    "    total_group_contribution = (group_parameters[\"CH\"][1]*WCH_1 + group_parameters[\"CH2\"][1]*WCH2_1 + group_parameters[\"CH3\"][1]*WCH3_1 + group_parameters[\"CH=CH\"][1]*WCHCH_1 + group_parameters[\"OH\"][1]*WOH_1 + group_parameters[\"CH2COO\"][1]*WCH2COO_1)\n",
    "\n",
    "    THETACH_1 = group_parameters[\"CH\"][1]*WCH_1/total_group_contribution\n",
    "    THETACH2_1 = group_parameters[\"CH2\"][1]*WCH2_1/total_group_contribution\n",
    "    THETACH3_1 = group_parameters[\"CH3\"][1]*WCH3_1/total_group_contribution\n",
    "    THETACHCH_1 = group_parameters[\"CH=CH\"][1]*WCHCH_1/total_group_contribution\n",
    "    THETAOH_1 = group_parameters[\"OH\"][1]*WOH_1/total_group_contribution\n",
    "    THETACH2COO_1 = group_parameters[\"CH2COO\"][1]*WCH2COO_1/total_group_contribution\n",
    "\n",
    "\n",
    "\n",
    "    rTermACH_1 = THETACH_1*TAO[0][0] + THETACH2_1*TAO[1][0] + THETACH3_1*TAO[2][0] +THETACHCH_1*TAO[3][0] + THETAOH_1*TAO[4][0] + THETACH2COO_1*TAO[5][0] #Fix Column\n",
    "    rTermACH2_1 = THETACH_1*TAO[0][1] + THETACH2_1*TAO[1][1] + THETACH3_1*TAO[2][1] +THETACHCH_1*TAO[3][1] + THETAOH_1*TAO[4][1] + THETACH2COO_1*TAO[5][1] #Fix Column\n",
    "    rTermACH3_1 = THETACH_1*TAO[0][2] +THETACH2_1*TAO[1][2] + THETACH3_1*TAO[2][2] +THETACHCH_1*TAO[3][2] + THETAOH_1*TAO[4][2] + THETACH2COO_1*TAO[5][2]  #Fix Column\n",
    "    rTermACHCH_1 = THETACH_1*TAO[0][3] +THETACH2_1*TAO[1][3] + THETACH3_1*TAO[2][3] +THETACHCH_1*TAO[3][3] + THETAOH_1*TAO[4][3] + THETACH2COO_1*TAO[5][3] #Fix Column\n",
    "    rTermAOH_1 = THETACH_1*TAO[0][4] +THETACH2_1*TAO[1][4] + THETACH3_1*TAO[2][4] +THETACHCH_1*TAO[3][4] + THETAOH_1*TAO[4][4] + THETACH2COO_1*TAO[5][4] #Fix Column\n",
    "    rTermACH2COO_1 = THETACH_1*TAO[0][5] +THETACH2_1*TAO[1][5] + THETACH3_1*TAO[2][5] +THETACHCH_1*TAO[3][5] + THETAOH_1*TAO[4][5] + THETACH2COO_1*TAO[5][5] #Fix Column\n",
    "\n",
    "    lngammar_CH_1 = group_parameters[\"CH\"][1]*(1 - np.log(rTermACH_1) - (THETACH_1*TAO[0][0]/rTermACH_1\n",
    "                                                                                            + THETACH2_1*TAO[0][1]/rTermACH2_1\n",
    "                                                                                            + THETACH3_1*TAO[0][2]/rTermACH3_1\n",
    "                                                                                            + THETACHCH_1*TAO[0][3]/rTermACHCH_1 \n",
    "                                                                                            + THETAOH_1*TAO[0][4]/rTermAOH_1\n",
    "                                                                                            + THETACH2COO_1*TAO[0][5]/rTermACH2COO_1 \n",
    "                                                                                            ))\n",
    "\n",
    "\n",
    "    lngammar_CH2_1 = group_parameters[\"CH2\"][1]*(1 - np.log(rTermACH2_1) - (THETACH_1*TAO[1][0]/rTermACH_1\n",
    "                                                                                            + THETACH2_1*TAO[1][1]/rTermACH2_1\n",
    "                                                                                            + THETACH3_1*TAO[1][2]/rTermACH3_1\n",
    "                                                                                            + THETACHCH_1*TAO[1][3]/rTermACHCH_1\n",
    "                                                                                            + THETAOH_1*TAO[1][4]/rTermAOH_1\n",
    "                                                                                            + THETACH2COO_1*TAO[1][5]/rTermACH2COO_l\n",
    "                                                                                            ))\n",
    "\n",
    "\n",
    "\n",
    "    lngammar_CH3_1 = group_parameters[\"CH3\"][1]*(1 - np.log(rTermACH3_1) - (THETACH_1*TAO[2][0]/rTermACH_1\n",
    "                                                                                            + THETACH2_1*TAO[2][1]/rTermACH2_1\n",
    "                                                                                            + THETACH3_1*TAO[2][2]/rTermACH3_1\n",
    "                                                                                            + THETACHCH_1*TAO[2][3]/rTermACHCH_1 \n",
    "                                                                                            + THETAOH_1*TAO[2][4]/rTermAOH_1\n",
    "                                                                                            + THETACH2COO_1*TAO[2][5]/rTermACH2COO_l\n",
    "                                                                                            ))\n",
    "\n",
    "\n",
    "    lngammar_CHCH_1 = group_parameters[\"CH=CH\"][1]*(1 - np.log(rTermACHCH_1) - (THETACH_1*TAO[3][0]/rTermACH_1\n",
    "                                                                                            + THETACH2_1*TAO[3][1]/rTermACH2_1\n",
    "                                                                                            + THETACH3_1*TAO[3][2]/rTermACH3_1\n",
    "                                                                                            + THETACHCH_1*TAO[3][3]/rTermACHCH_1 \n",
    "                                                                                            + THETAOH_1*TAO[3][4]/rTermAOH_1\n",
    "                                                                                            + THETACH2COO_1*TAO[3][5]/rTermACH2COO_l\n",
    "                                                                                            ))\n",
    "\n",
    "\n",
    "\n",
    "    lngammar_OH_1 = group_parameters[\"OH\"][1]*(1 - np.log(rTermAOH_1) - (THETACH_1*TAO[4][0]/rTermACH_1\n",
    "                                                                                            + THETACH2_1*TAO[4][1]/rTermACH2_1\n",
    "                                                                                            + THETACH3_1*TAO[4][2]/rTermACH3_1\n",
    "                                                                                            + THETACHCH_1*TAO[4][3]/rTermACHCH_1 \n",
    "                                                                                            + THETAOH_1*TAO[4][4]/rTermAOH_1\n",
    "                                                                                            + THETACH2COO_1*TAO[4][5]/rTermACH2COO_l\n",
    "                                                                                            ))\n",
    "\n",
    "    lngammar_CH2COO_1 = group_parameters[\"CH2COO\"][1]*(1 - np.log(rTermACH2COO_1) - (THETACH_1*TAO[5][0]/rTermACH_1\n",
    "                                                                                            + THETACH2_1*TAO[5][1]/rTermACH2_1\n",
    "                                                                                            + THETACH3_1*TAO[5][2]/rTermACH3_1\n",
    "                                                                                            + THETACHCH_1*TAO[5][3]/rTermACHCH_1 \n",
    "                                                                                            + THETAOH_1*TAO[5][4]/rTermAOH_1))\n",
    "    # Pure 2\n",
    "\n",
    "    total_comp_group_contribution = (2)\n",
    "    WCH3_2 = (1)/total_comp_group_contribution\n",
    "    WOH_2 = (1)/total_comp_group_contribution\n",
    "\n",
    "    total_group_contribution = ( group_parameters[\"CH3\"][1]*WCH3_2  + group_parameters[\"OH\"][1]*WOH_2)\n",
    "\n",
    "    THETACH3_2 = group_parameters[\"CH3\"][1]*WCH3_2/total_group_contribution\n",
    "    THETAOH_2 = group_parameters[\"OH\"][1]*WOH_2/total_group_contribution\n",
    "\n",
    "\n",
    "\n",
    "    rTermACH3_2 = THETACH3_2*TAO[2][2]  + THETAOH_2*TAO[4][2]  #Fix Column\n",
    "    rTermAOH_2 = THETACH3_2*TAO[2][4] + THETAOH_2*TAO[4][4]  #Fix Column\n",
    "\n",
    "    lngammar_CH3_2 = group_parameters[\"CH3\"][1]*(1 - np.log(rTermACH3_2) - (THETACH3_2*TAO[2][2]/rTermACH3_2\n",
    "                                                                                            + THETAOH_2*TAO[2][4]/rTermAOH_2))\n",
    "\n",
    "    lngammar_OH_2 = group_parameters[\"OH\"][1]*(1 - np.log(rTermAOH_2) -(THETACH3_2*TAO[4][2]/rTermACH3_2\n",
    "                                                                                            + THETAOH_2*TAO[4][4]/rTermAOH_2))\n",
    "\n",
    "\n",
    "    # Pure 3\n",
    "    total_comp_group_contribution = (6)\n",
    "    WCH_3 = (1)/total_comp_group_contribution\n",
    "    WCH2_3 = (2)/total_comp_group_contribution\n",
    "    WOH_3 = (3)/total_comp_group_contribution\n",
    "\n",
    "    total_group_contribution = (group_parameters[\"CH\"][1]*WCH_3 + group_parameters[\"CH2\"][1]*WCH2_3 + group_parameters[\"OH\"][1]*WOH_3)\n",
    "\n",
    "    THETACH_3 = group_parameters[\"CH\"][1]*WCH_3/total_group_contribution\n",
    "    THETACH2_3 = group_parameters[\"CH2\"][1]*WCH2_3/total_group_contribution\n",
    "    THETAOH_3 = group_parameters[\"OH\"][1]*WOH_3/total_group_contribution\n",
    "\n",
    "    rTermACH_3 = THETACH_3*TAO[0][0] + THETACH2_3*TAO[1][0] + THETAOH_3*TAO[4][0] #Fix Column\n",
    "    rTermACH2_3 = THETACH_3*TAO[0][1] + THETACH2_3*TAO[1][1] + THETAOH_3*TAO[4][1] #Fix Column\n",
    "    rTermAOH_3 = THETACH_3*TAO[0][4] +THETACH2_3*TAO[1][4] + THETAOH_3*TAO[4][4]  #Fix Column\n",
    "\n",
    "    lngammar_CH_3 = group_parameters[\"CH\"][1]*(1 - np.log(rTermACH_3) - (THETACH_3*TAO[0][0]/rTermACH_3\n",
    "                                                                                            + THETACH2_3*TAO[0][1]/rTermACH2_3 \n",
    "                                                                                            + THETAOH_3*TAO[0][4]/rTermAOH_3))\n",
    "\n",
    "\n",
    "    lngammar_CH2_3 = group_parameters[\"CH2\"][1]*(1 - np.log(rTermACH2_3) - (THETACH_3*TAO[1][0]/rTermACH_3\n",
    "                                                                                            + THETACH2_3*TAO[1][1]/rTermACH2_3 \n",
    "                                                                                            + THETAOH_3*TAO[1][4]/rTermAOH_3))\n",
    "\n",
    "    lngammar_OH_3 = group_parameters[\"OH\"][1]*(1 - np.log(rTermAOH_3) - (THETACH_3*TAO[4][0]/rTermACH_3\n",
    "                                                                                            + THETACH2_3*TAO[4][1]/rTermACH2_3 \n",
    "                                                                                            + THETAOH_3*TAO[4][4]/rTermAOH_3))\n",
    "\n",
    "    lngammar_1_l = (mean_p_ester*(lngammar_CH_l - lngammar_CH_1) \n",
    "                    + mean_m_ester*(lngammar_CH2_l - lngammar_CH2_1) \n",
    "                    + 2*(lngammar_CH3_l - lngammar_CH3_1)\n",
    "                    + mean_n_ester*(lngammar_CHCH_l - lngammar_CHCH_1)\n",
    "                    + mean_p_ester*(lngammar_OH_l - lngammar_OH_1)\n",
    "                    + 1*(lngammar_CH2COO_l - lngammar_CH2COO_1))\n",
    "\n",
    "    lngammar_2_l = ((lngammar_CH3_l - lngammar_CH3_2)\n",
    "                    + 1*(lngammar_OH_l - lngammar_OH_2))\n",
    "\n",
    "    lngammar_3_l = ((lngammar_CH_l - lngammar_CH_3)\n",
    "                    + 2*(lngammar_CH2_l - lngammar_CH2_3)\n",
    "                    + 3*(lngammar_OH_l - lngammar_OH_3))\n",
    "    \n",
    "    lngammar_1_h = (mean_p_ester*(lngammar_CH_h - lngammar_CH_1) \n",
    "                + mean_m_ester*(lngammar_CH2_h - lngammar_CH2_1) \n",
    "                + 2*(lngammar_CH3_h - lngammar_CH3_1)\n",
    "                + mean_n_ester*(lngammar_CHCH_h - lngammar_CHCH_1)\n",
    "                + mean_p_ester*(lngammar_OH_h - lngammar_OH_1)\n",
    "                + 1*(lngammar_CH2COO_h - lngammar_CH2COO_1))\n",
    "\n",
    "    lngammar_2_h = ((lngammar_CH3_h - lngammar_CH3_2)\n",
    "                + 1*(lngammar_OH_h - lngammar_OH_2))\n",
    "\n",
    "    lngammar_3_h = (1*(lngammar_CH_h - lngammar_CH_3)\n",
    "                + 2*(lngammar_CH2_h - lngammar_CH2_3)\n",
    "                + 3*(lngammar_OH_h - lngammar_OH_3))\n",
    "\n",
    "    lngamma_1_l = lngammac_l_1 + lngammar_1_l\n",
    "    lngamma_1_h = lngammac_h_1 + lngammar_1_h\n",
    "\n",
    "    lngamma_2_l = lngammac_l_2 + lngammar_2_l\n",
    "    lngamma_2_h = lngammac_h_2 + lngammar_2_h\n",
    "\n",
    "    lngamma_3_l = lngammac_l_3 + lngammar_3_l\n",
    "    lngamma_3_h = lngammac_h_3 + lngammar_3_h\n",
    "        \n",
    "    gamma_1_l = np.exp(lngamma_1_l)\n",
    "    gamma_1_h = np.exp(lngamma_1_h)\n",
    "\n",
    "    gamma_2_l = np.exp(lngamma_2_l)\n",
    "    gamma_2_h = np.exp(lngamma_2_h)\n",
    "\n",
    "    gamma_3_l = np.exp(lngamma_3_l)\n",
    "    gamma_3_h = np.exp(lngamma_3_h)\n",
    "        \n",
    "    return gamma_1_l, gamma_2_l, gamma_3_l, gamma_1_h, gamma_2_h, gamma_3_h\n",
    "    \n",
    "            \n",
    "            \n"
   ]
  },
  {
   "cell_type": "code",
   "execution_count": 54,
   "metadata": {},
   "outputs": [],
   "source": [
    "comps =np.array([0.856, 0.116, 0.028, 0.002265, 0.323, 0.675])\n",
    "gamma_1_l, gamma_2_l, gamma_3_l, gamma_1_h, gamma_2_h, gamma_3_h = calculate_gamma(group_parameters, FA_profile, TAO, comps)"
   ]
  },
  {
   "cell_type": "code",
   "execution_count": 55,
   "metadata": {},
   "outputs": [],
   "source": [
    "def rachford_rice(fi, Z1, Z2, Z3, K1, K2, K3):  \n",
    "    return Z1*(K1-1)/(1+(K1-1)*fi) + Z2*(K2-1)/(1+(K2-1)*fi) + Z3*(K3-1)/(1+(K3-1)*fi)"
   ]
  },
  {
   "cell_type": "code",
   "execution_count": 56,
   "metadata": {},
   "outputs": [],
   "source": [
    "def calculate_composition(global_comps, initial_comps):\n",
    "   \n",
    "   Z1 = global_comps[0]\n",
    "   Z2 = global_comps[1]\n",
    "   Z3 = global_comps[2]\n",
    "\n",
    "   while True:  \n",
    "       gamma_1_l, gamma_2_l, gamma_3_l, gamma_1_h, gamma_2_h, gamma_3_h = calculate_gamma(group_parameters, FA_profile, TAO, initial_comps)\n",
    "        \n",
    "       print(gamma_1_l, gamma_1_h) \n",
    "       K1 = gamma_1_l/gamma_1_h\n",
    "\n",
    "       K2 = gamma_2_l/gamma_2_h\n",
    "\n",
    "       K3 = gamma_3_l/gamma_3_h\n",
    "       \n",
    "       sol = minimize(rachford_rice, x0 = 0.6,  args = (Z1, Z2, Z3, K1, K2, K3), method=\"SLSQP\", bounds=[(0.005, 0.995)], tol=1e-6)\n",
    "\n",
    "       print(sol.fun, sol.x)\n",
    "       w1l = Z1/(1+(K1-1)*sol.x)\n",
    "       w2l = Z2/(1+(K2-1)*sol.x)\n",
    "       w3l = 1 - w1l - w2l\n",
    "       \n",
    "       w1h = K1*w1l\n",
    "       w2h = K2*w2l\n",
    "       w3h = 1 - w1h - w2h\n",
    "       \n",
    "       new_comps = np.array([w1l, w2l, w3l, w1h, w2h, w3h])\n",
    "       print(new_comps)\n",
    "       diff = abs(new_comps - initial_comps)\n",
    "       initial_comps = new_comps\n",
    "       if (diff.mean() <= 1e-6):\n",
    "           break\n",
    "    \n",
    "   return initial_comps, sol\n",
    "    \n",
    "        "
   ]
  },
  {
   "cell_type": "code",
   "execution_count": 57,
   "metadata": {},
   "outputs": [
    {
     "name": "stdout",
     "output_type": "stream",
     "text": [
      "0.5618614820977251 1.8790077910941534\n",
      "-0.9183098244115191 [0.995]\n",
      "[[ 1.27262124]\n",
      " [ 0.29244209]\n",
      " [-0.56506333]\n",
      " [ 0.38053959]\n",
      " [ 0.22968622]\n",
      " [ 0.38977419]]\n",
      "[0.52027384] [0.50802161]\n",
      "0.3249931394475861 [0.995]\n",
      "[[0.37597768]\n",
      " [0.16388036]\n",
      " [0.46014195]\n",
      " [0.38504534]\n",
      " [0.23033226]\n",
      " [0.3846224 ]]\n",
      "[0.65589488] [0.50283354]\n",
      "0.07585830033747554 [0.995]\n",
      "[[0.29550019]\n",
      " [0.24549032]\n",
      " [0.45900949]\n",
      " [0.38544975]\n",
      " [0.22992216]\n",
      " [0.38462809]]\n",
      "[0.55796372] [0.5032793]\n",
      "0.03596156230856831 [0.995]\n",
      "[[0.34743751]\n",
      " [0.22583588]\n",
      " [0.42672661]\n",
      " [0.38518876]\n",
      " [0.23002093]\n",
      " [0.38479032]]\n",
      "[0.5466294] [0.5033135]\n",
      "0.028115739858098676 [0.995]\n",
      "[[0.35463242]\n",
      " [0.23038378]\n",
      " [0.41498381]\n",
      " [0.3851526 ]\n",
      " [0.22999807]\n",
      " [0.38484933]]\n",
      "[0.530272] [0.50338916]\n",
      "0.018020946053979924 [0.995]\n",
      "[[0.36557459]\n",
      " [0.22955665]\n",
      " [0.40486876]\n",
      " [0.38509762]\n",
      " [0.23000223]\n",
      " [0.38490016]]\n",
      "[0.52173503] [0.50342871]\n",
      "0.01259463423305525 [0.6]\n",
      "[[0.37677944]\n",
      " [0.22991881]\n",
      " [0.39330175]\n",
      " [0.39048038]\n",
      " [0.23005412]\n",
      " [0.3794655 ]]\n",
      "[0.51088729] [0.4987051]\n",
      "0.008456001070806355 [0.6]\n",
      "[[0.37943873]\n",
      " [0.22992681]\n",
      " [0.39063446]\n",
      " [0.38870752]\n",
      " [0.23004879]\n",
      " [0.38124369]]\n",
      "[0.50851905] [0.50022967]\n",
      "0.005760728099933673 [0.6]\n",
      "[[0.38120975]\n",
      " [0.2299545 ]\n",
      " [0.38883575]\n",
      " [0.38752683]\n",
      " [0.23003033]\n",
      " [0.38244283]]\n",
      "[0.50690862] [0.50127837]\n",
      "0.003916181789492497 [0.6]\n",
      "[[0.38242283]\n",
      " [0.22996817]\n",
      " [0.38760901]\n",
      " [0.38671812]\n",
      " [0.23002122]\n",
      " [0.38326066]]\n",
      "[0.50582083] [0.50199202]\n",
      "0.002664663880235436 [0.6]\n",
      "[[0.38324614]\n",
      " [0.22997859]\n",
      " [0.38677528]\n",
      " [0.38616924]\n",
      " [0.23001428]\n",
      " [0.38381648]]\n",
      "[0.5050826] [0.50247884]\n",
      "0.0018127861176276093 [0.6]\n",
      "[[0.38380671]\n",
      " [0.22998539]\n",
      " [0.3862079 ]\n",
      " [0.38579553]\n",
      " [0.23000974]\n",
      " [0.38419474]]\n",
      "[0.50458155] [0.5028104]\n",
      "0.0012334276687684124 [0.6]\n",
      "[[0.38418802]\n",
      " [0.22999008]\n",
      " [0.3858219 ]\n",
      " [0.38554132]\n",
      " [0.23000661]\n",
      " [0.38445207]]\n",
      "[0.50424111] [0.50303621]\n",
      "0.0008392382145176356 [0.6]\n",
      "[[0.38444749]\n",
      " [0.22999325]\n",
      " [0.38555926]\n",
      " [0.38536834]\n",
      " [0.2300045 ]\n",
      " [0.38462716]]\n",
      "[0.50400971] [0.50318995]\n",
      "0.0005710479300131085 [0.6]\n",
      "[[0.38462404]\n",
      " [0.22999541]\n",
      " [0.38538055]\n",
      " [0.38525064]\n",
      " [0.23000306]\n",
      " [0.3847463 ]]\n",
      "[0.50385236] [0.50329461]\n",
      "0.00038856733680534916 [0.6]\n",
      "[[0.38474417]\n",
      " [0.22999688]\n",
      " [0.38525895]\n",
      " [0.38517055]\n",
      " [0.23000208]\n",
      " [0.38482737]]\n",
      "[0.50374534] [0.50336584]\n",
      "0.0002644026471128817 [0.6]\n",
      "[[0.38482592]\n",
      " [0.22999787]\n",
      " [0.38517621]\n",
      " [0.38511605]\n",
      " [0.23000142]\n",
      " [0.38488253]]\n",
      "[0.50367255] [0.50341432]\n",
      "0.00017991557362100386 [0.6]\n",
      "[[0.38488154]\n",
      " [0.22999855]\n",
      " [0.3851199 ]\n",
      " [0.38507897]\n",
      " [0.23000096]\n",
      " [0.38492006]]\n",
      "[0.50362302] [0.50344731]\n",
      "0.00012242615806872076 [0.6]\n",
      "[[0.38491939]\n",
      " [0.22999902]\n",
      " [0.38508159]\n",
      " [0.38505374]\n",
      " [0.23000066]\n",
      " [0.38494561]]\n",
      "[0.50358933] [0.50346976]\n",
      "8.330696899345898e-05 [0.6]\n",
      "[[0.38494515]\n",
      " [0.22999933]\n",
      " [0.38505552]\n",
      " [0.38503657]\n",
      " [0.23000045]\n",
      " [0.38496299]]\n",
      "[0.5035664] [0.50348504]\n",
      "5.668779780090777e-05 [0.6]\n",
      "[[0.38496268]\n",
      " [0.22999954]\n",
      " [0.38503778]\n",
      " [0.38502488]\n",
      " [0.2300003 ]\n",
      " [0.38497481]]\n",
      "[0.5035508] [0.50349544]\n",
      "3.857434918834534e-05 [0.6]\n",
      "[[0.3849746 ]\n",
      " [0.22999969]\n",
      " [0.38502571]\n",
      " [0.38501693]\n",
      " [0.23000021]\n",
      " [0.38498286]]\n",
      "[0.50354019] [0.50350251]\n",
      "2.6248721470666684e-05 [0.6]\n",
      "[[0.38498272]\n",
      " [0.22999979]\n",
      " [0.38501749]\n",
      " [0.38501152]\n",
      " [0.23000014]\n",
      " [0.38498834]]\n",
      "[0.50353296] [0.50350733]\n",
      "1.7861505365018107e-05 [0.6]\n",
      "[[0.38498824]\n",
      " [0.22999986]\n",
      " [0.3850119 ]\n",
      " [0.38500784]\n",
      " [0.2300001 ]\n",
      " [0.38499206]]\n",
      "[0.50352805] [0.5035106]\n",
      "1.2154251121972691e-05 [0.6]\n",
      "[[0.384992  ]\n",
      " [0.2299999 ]\n",
      " [0.3850081 ]\n",
      " [0.38500534]\n",
      " [0.23000007]\n",
      " [0.3849946 ]]\n",
      "[0.5035247] [0.50351283]\n",
      "8.270628569464098e-06 [0.6]\n",
      "[[0.38499455]\n",
      " [0.22999993]\n",
      " [0.38500551]\n",
      " [0.38500363]\n",
      " [0.23000004]\n",
      " [0.38499633]]\n",
      "[0.50352243] [0.50351435]\n",
      "5.627933293390197e-06 [0.6]\n",
      "[[0.38499629]\n",
      " [0.22999995]\n",
      " [0.38500375]\n",
      " [0.38500247]\n",
      " [0.23000003]\n",
      " [0.3849975 ]]\n"
     ]
    }
   ],
   "source": [
    "global_comps = np.array([0.385, 0.230, 0.385])\n",
    "comps = np.array([0.90, 0.05, 0.05, 0.05, 0.05, 0.90])\n",
    "result, sol = calculate_composition(global_comps, comps)"
   ]
  },
  {
   "cell_type": "code",
   "execution_count": 58,
   "metadata": {},
   "outputs": [
    {
     "data": {
      "text/plain": [
       "array([[0.38499629],\n",
       "       [0.22999995],\n",
       "       [0.38500375],\n",
       "       [0.38500247],\n",
       "       [0.23000003],\n",
       "       [0.3849975 ]])"
      ]
     },
     "execution_count": 58,
     "metadata": {},
     "output_type": "execute_result"
    }
   ],
   "source": [
    "result"
   ]
  },
  {
   "cell_type": "code",
   "execution_count": 59,
   "metadata": {},
   "outputs": [
    {
     "data": {
      "text/plain": [
       " message: Optimization terminated successfully\n",
       " success: True\n",
       "  status: 0\n",
       "     fun: 5.627933293390197e-06\n",
       "       x: [ 6.000e-01]\n",
       "     nit: 1\n",
       "     jac: [-1.001e-10]\n",
       "    nfev: 2\n",
       "    njev: 1"
      ]
     },
     "execution_count": 59,
     "metadata": {},
     "output_type": "execute_result"
    }
   ],
   "source": [
    "sol"
   ]
  },
  {
   "cell_type": "code",
   "execution_count": null,
   "metadata": {},
   "outputs": [],
   "source": []
  }
 ],
 "metadata": {
  "kernelspec": {
   "display_name": "maestria",
   "language": "python",
   "name": "python3"
  },
  "language_info": {
   "codemirror_mode": {
    "name": "ipython",
    "version": 3
   },
   "file_extension": ".py",
   "mimetype": "text/x-python",
   "name": "python",
   "nbconvert_exporter": "python",
   "pygments_lexer": "ipython3",
   "version": "3.10.14"
  }
 },
 "nbformat": 4,
 "nbformat_minor": 2
}
